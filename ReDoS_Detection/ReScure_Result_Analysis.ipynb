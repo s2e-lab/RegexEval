{
 "cells": [
  {
   "cell_type": "code",
   "execution_count": 43,
   "metadata": {},
   "outputs": [],
   "source": [
    "import json\n",
    "import json\n",
    "from typing import List, Union\n",
    "import itertools\n",
    "\n",
    "import numpy as np\n",
    "from collections import defaultdict\n"
   ]
  },
  {
   "cell_type": "code",
   "execution_count": 44,
   "metadata": {},
   "outputs": [],
   "source": [
    "def estimate_pass_at_k(\n",
    "    num_samples: Union[int, List[int], np.ndarray],\n",
    "    num_correct: Union[List[int], np.ndarray],\n",
    "    k: int\n",
    ") -> np.ndarray:\n",
    "    \"\"\"\n",
    "    Estimates pass@k of each problem and returns them in an array.\n",
    "    \"\"\"\n",
    "\n",
    "    def estimator(n: int, c: int, k: int) -> float:\n",
    "        \"\"\"\n",
    "        Calculates 1 - comb(n - c, k) / comb(n, k).\n",
    "        \"\"\"\n",
    "        if n - c < k:\n",
    "            return 1.0\n",
    "        return 1.0 - np.prod(1.0 - k / np.arange(n - c + 1, n + 1))\n",
    "\n",
    "    if isinstance(num_samples, int):\n",
    "        num_samples_it = itertools.repeat(num_samples, len(num_correct))\n",
    "    else:\n",
    "        assert len(num_samples) == len(num_correct)\n",
    "        num_samples_it = iter(num_samples)\n",
    "\n",
    "    return np.array([estimator(int(n), int(c), k) for n, c in zip(num_samples_it, num_correct)])\n"
   ]
  },
  {
   "cell_type": "code",
   "execution_count": 45,
   "metadata": {},
   "outputs": [],
   "source": [
    "def parse_rescue(text):\n",
    "    # Split the text into sections using \"id:\" as a delimiter\n",
    "\n",
    "    sections = text.split('\\n')\n",
    "    \n",
    "    # Initialize a list to store the parsed data\n",
    "    parsed_data = []\n",
    "    \n",
    "    # Iterate through each section (excluding the first empty section)\n",
    "    for section in sections:\n",
    "        # Initialize a dictionary to store the parsed information for this section\n",
    "        section_data = {}\n",
    "\n",
    "        current_data = section.split(':')\n",
    "\n",
    "        \n",
    "        # Extract the ID\n",
    "        section_data['id'] = (int(current_data[0].strip())-1)//10\n",
    "        \n",
    "        # Extract the status 1\n",
    "        section_data['status1'] = current_data[1].strip()\n",
    "        \n",
    "        if section_data['status1'] == \"success\":\n",
    "            section_data['status1'] = True\n",
    "        else:\n",
    "            section_data['status1'] = False\n",
    "        \n",
    "\n",
    "        # if section_data['status1'] != \"success\":\n",
    "        #     continue\n",
    "\n",
    "        # Extract the status 1\n",
    "        # section_data['status2'] = current_data[2].strip()\n",
    "\n",
    "        # # Extract the time\n",
    "        # section_data['time'] = current_data[3].strip()\n",
    "\n",
    "        # # Extract the pattern\n",
    "        # section_data['pattern'] = current_data[4].strip()\n",
    "\n",
    "        # Append the parsed data for this section to the list\n",
    "        parsed_data.append(section_data)\n",
    "    \n",
    "    return parsed_data"
   ]
  },
  {
   "cell_type": "code",
   "execution_count": 46,
   "metadata": {},
   "outputs": [
    {
     "name": "stdout",
     "output_type": "stream",
     "text": [
      "Text_DaVinci_Raw_Output\n",
      "{'pass@1': 0.005380577427821522, 'pass@5': 0.017721743115443903, 'pass@10': 0.027559055118110236}\n",
      "Text_DaVinci_Refined_Output\n",
      "{'pass@1': 0.0027559055118110236, 'pass@5': 0.01089967920676582, 'pass@10': 0.01706036745406824}\n",
      "GPT3.5_Raw_Output\n",
      "{'pass@1': 0.0027559055118110236, 'pass@5': 0.01137357830271216, 'pass@10': 0.01837270341207349}\n",
      "GPT3.5_Refined_Output\n",
      "{'pass@1': 0.0022309711286089243, 'pass@5': 0.009988334791484397, 'pass@10': 0.01706036745406824}\n"
     ]
    }
   ],
   "source": [
    "names = [\"Text_DaVinci_Raw_Output\",\"Text_DaVinci_Refined_Output\",\"GPT3.5_Raw_Output\",\"GPT3.5_Refined_Output\"]\n",
    "for name in names:\n",
    "    print(name)\n",
    "    outfilename = f'./ReScue_Results/{name}_full_result.txt'\n",
    "\n",
    "    with open(outfilename, 'r') as f:\n",
    "        result = f.read()\n",
    "    rescue_data = parse_rescue(result)\n",
    "    # print(rescue_data[0])\n",
    "\n",
    "\n",
    "    results = defaultdict(list)\n",
    "\n",
    "    for r in rescue_data:\n",
    "        results[r['id']].append(r)\n",
    "    \n",
    "\n",
    "    # Calculate pass@k.\n",
    "    total, correct = [], []\n",
    "    for result in results.values():\n",
    "            passed = [r[\"status1\"] for r in result]\n",
    "            # print(passed)\n",
    "            total.append(len(passed))\n",
    "            correct.append(sum(passed))\n",
    "    total = np.array(total)\n",
    "    correct = np.array(correct)\n",
    "\n",
    "    ks = [1,5,10]\n",
    "    pass_at_k = {f\"pass@{k}\": estimate_pass_at_k(total, correct, k).mean()\n",
    "                        for k in ks if (total >= k).all()}\n",
    "    print(pass_at_k)"
   ]
  }
 ],
 "metadata": {
  "kernelspec": {
   "display_name": "Python 3",
   "language": "python",
   "name": "python3"
  },
  "language_info": {
   "codemirror_mode": {
    "name": "ipython",
    "version": 3
   },
   "file_extension": ".py",
   "mimetype": "text/x-python",
   "name": "python",
   "nbconvert_exporter": "python",
   "pygments_lexer": "ipython3",
   "version": "3.9.4"
  },
  "orig_nbformat": 4
 },
 "nbformat": 4,
 "nbformat_minor": 2
}
