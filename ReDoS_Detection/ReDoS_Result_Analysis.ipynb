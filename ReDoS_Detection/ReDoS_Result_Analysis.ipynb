{
 "cells": [
  {
   "cell_type": "code",
   "execution_count": 1,
   "metadata": {},
   "outputs": [],
   "source": [
    "import json"
   ]
  },
  {
   "cell_type": "code",
   "execution_count": 2,
   "metadata": {},
   "outputs": [
    {
     "data": {
      "text/plain": [
       "762"
      ]
     },
     "execution_count": 2,
     "metadata": {},
     "output_type": "execute_result"
    }
   ],
   "source": [
    "with open(\"../DatasetCollection/RegexEval_v4.json\") as f:\n",
    "    data = json.load(f)\n",
    "len(data)"
   ]
  },
  {
   "cell_type": "code",
   "execution_count": 3,
   "metadata": {},
   "outputs": [],
   "source": [
    "def parse_redos_hunter(text):\n",
    "    # Split the text into sections using \"id:\" as a delimiter\n",
    "\n",
    "    sections = text.split('++++++++++++++++++++++++++++++++++++++++++++++++++++++++++++++++++++++++')\n",
    "    \n",
    "    # Initialize a list to store the parsed data\n",
    "    parsed_data = []\n",
    "    \n",
    "    # Iterate through each section (excluding the first empty section)\n",
    "    for section in sections:\n",
    "        # Initialize a dictionary to store the parsed information for this section\n",
    "        section_data = {}\n",
    "\n",
    "        current_data = section.split('\\n')\n",
    "        if current_data[0] == '':\n",
    "            current_data = current_data[1:]\n",
    "        \n",
    "        if len(current_data) < 8:\n",
    "            continue\n",
    "\n",
    "        \n",
    "        # Extract the ID\n",
    "        section_data['id'] = current_data[0].strip().split(':')[-1]\n",
    "        \n",
    "        # Extract the regular expression pattern\n",
    "        section_data['pattern'] = current_data[1].strip()\n",
    "        \n",
    "        # Extract the RESULT\n",
    "        section_data['result'] = current_data[2].strip()\n",
    "        \n",
    "        # Extract the POLYNOMIAL information\n",
    "        section_data['test_type'] = current_data[3].strip()\n",
    "        \n",
    "        # Extract the nums value\n",
    "        section_data['nums_attack_string'] = current_data[4].strip().split(':')[-1]\n",
    "        \n",
    "        # Extract the AttackString\n",
    "        section_data['attack_string']  = current_data[5].strip().split(':')[-1]\n",
    "\n",
    "        \n",
    "        # Extract the vulnerability Position\n",
    "        section_data['vulnerability_position'] = current_data[6].strip().split(':')[-1]\n",
    "\n",
    "        # Extract the vulnerability Source\n",
    "        section_data['vulnerability_source'] = current_data[7].strip().split(':')[-1]\n",
    "\n",
    "        # Append the parsed data for this section to the list\n",
    "        parsed_data.append(section_data)\n",
    "    \n",
    "    return parsed_data"
   ]
  },
  {
   "cell_type": "code",
   "execution_count": 31,
   "metadata": {},
   "outputs": [
    {
     "data": {
      "text/plain": [
       "92"
      ]
     },
     "execution_count": 31,
     "metadata": {},
     "output_type": "execute_result"
    }
   ],
   "source": [
    "with open('./ReDoSHunter.txt') as f:\n",
    "    text = f.read()\n",
    "\n",
    "redos_hunter_data = parse_redos_hunter(text)\n",
    "len(redos_hunter_data)\n"
   ]
  },
  {
   "cell_type": "code",
   "execution_count": 4,
   "metadata": {},
   "outputs": [],
   "source": [
    "def parse_rescue(text):\n",
    "    # Split the text into sections using \"id:\" as a delimiter\n",
    "\n",
    "    sections = text.split('\\n')\n",
    "    \n",
    "    # Initialize a list to store the parsed data\n",
    "    parsed_data = []\n",
    "    \n",
    "    # Iterate through each section (excluding the first empty section)\n",
    "    for section in sections:\n",
    "        # Initialize a dictionary to store the parsed information for this section\n",
    "        section_data = {}\n",
    "\n",
    "        current_data = section.split(':')\n",
    "\n",
    "        \n",
    "        # Extract the ID\n",
    "        section_data['id'] = current_data[0].strip()\n",
    "        \n",
    "        # Extract the status 1\n",
    "        section_data['status1'] = current_data[1].strip()\n",
    "\n",
    "        if section_data['status1'] != \"success\":\n",
    "            continue\n",
    "\n",
    "        # Extract the status 1\n",
    "        section_data['status2'] = current_data[2].strip()\n",
    "\n",
    "        # Extract the time\n",
    "        section_data['time'] = current_data[3].strip()\n",
    "\n",
    "        # Extract the pattern\n",
    "        section_data['pattern'] = current_data[4].strip()\n",
    "\n",
    "        # Append the parsed data for this section to the list\n",
    "        parsed_data.append(section_data)\n",
    "    \n",
    "    return parsed_data"
   ]
  },
  {
   "cell_type": "code",
   "execution_count": 6,
   "metadata": {},
   "outputs": [
    {
     "data": {
      "text/plain": [
       "21"
      ]
     },
     "execution_count": 6,
     "metadata": {},
     "output_type": "execute_result"
    }
   ],
   "source": [
    "with open('./ReScue_Results/GPT3.5_Raw_Output_full_result.txt') as f:\n",
    "    text = f.read()\n",
    "\n",
    "rescue_data = parse_rescue(text)\n",
    "len(rescue_data)"
   ]
  },
  {
   "cell_type": "code",
   "execution_count": 48,
   "metadata": {},
   "outputs": [
    {
     "data": {
      "text/plain": [
       "92"
      ]
     },
     "execution_count": 48,
     "metadata": {},
     "output_type": "execute_result"
    }
   ],
   "source": [
    "redos_hunter_ids = set([int(x['id']) for x in redos_hunter_data])\n",
    "rescue_ids = set([int(x['id']) for x in rescue_data])\n",
    "len(redos_hunter_ids.union(rescue_ids))"
   ]
  },
  {
   "cell_type": "code",
   "execution_count": 56,
   "metadata": {},
   "outputs": [],
   "source": [
    "def get_redos_hunter_data(id):\n",
    "    for x in redos_hunter_data:\n",
    "        if int(x['id']) == id:\n",
    "            return x\n",
    "    return None"
   ]
  },
  {
   "cell_type": "code",
   "execution_count": 60,
   "metadata": {},
   "outputs": [
    {
     "name": "stdout",
     "output_type": "stream",
     "text": [
      "119 193\n",
      "179 284\n",
      "194 315\n",
      "226 372\n",
      "233 386\n",
      "331 563\n",
      "416 756\n",
      "434 781\n",
      "437 784\n",
      "442 790\n",
      "476 830\n",
      "481 838\n",
      "485 845\n",
      "505 870\n",
      "512 877\n",
      "557 953\n",
      "558 954\n",
      "571 976\n"
     ]
    }
   ],
   "source": [
    "redos_data = []\n",
    "for i in range(len(data)):\n",
    "    item  = data[i]\n",
    "    id = i+1\n",
    "    if id not in redos_hunter_ids:\n",
    "        continue\n",
    "    redos_hunter_data_item = get_redos_hunter_data(id)\n",
    "    item['redos_hunter_attack_string'] = redos_hunter_data_item['attack_string']\n",
    "    if id in rescue_ids:\n",
    "        item['rescue_attack_string'] = \"\"\n",
    "        # print(id, item['serial'])\n",
    "    \n",
    "    redos_data.append(item)\n",
    "\n"
   ]
  },
  {
   "cell_type": "code",
   "execution_count": 58,
   "metadata": {},
   "outputs": [],
   "source": [
    "with open(\"./ReDoSEval_v1.json\", \"w\") as f:\n",
    "    json.dump(redos_data, f, indent=4)"
   ]
  }
 ],
 "metadata": {
  "kernelspec": {
   "display_name": "Python 3",
   "language": "python",
   "name": "python3"
  },
  "language_info": {
   "codemirror_mode": {
    "name": "ipython",
    "version": 3
   },
   "file_extension": ".py",
   "mimetype": "text/x-python",
   "name": "python",
   "nbconvert_exporter": "python",
   "pygments_lexer": "ipython3",
   "version": "3.9.4"
  },
  "orig_nbformat": 4
 },
 "nbformat": 4,
 "nbformat_minor": 2
}
