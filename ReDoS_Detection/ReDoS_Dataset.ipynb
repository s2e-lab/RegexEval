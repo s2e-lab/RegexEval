{
 "cells": [
  {
   "cell_type": "code",
   "execution_count": 1,
   "metadata": {},
   "outputs": [
    {
     "name": "stdout",
     "output_type": "stream",
     "text": [
      "Phi_Raw_Output\n",
      "Done\n",
      "Phi_Refined_Output\n",
      "Done\n"
     ]
    }
   ],
   "source": [
    "names = [\"T5_Raw_Output\",\"T5_Refined_Output\",\"Text_DaVinci_Raw_Output\",\"Text_DaVinci_Refined_Output\",\"GPT3.5_Raw_Output\",\"GPT3.5_Refined_Output\"]\n",
    "names = [\"Phi_Raw_Output\",\"Phi_Refined_Output\"]\n",
    "for name in names:\n",
    "    print(name)\n",
    "    filename = f'../Evaluation//{name}_Compiled_Result.json'\n",
    "    with open(filename) as f:\n",
    "        data = f.readlines()\n",
    "    \n",
    "\n",
    "    with open(f'./Input_Data/{name}.txt', 'w') as f:\n",
    "\n",
    "        for i in range(len(data)):\n",
    "            if (i-3)%5 == 0:\n",
    "                line = data[i]\n",
    "                current_data = line.split(\":\")[1].strip()[1:-2]\n",
    "                f.write(f\"{current_data}\\n\")\n",
    "        # for item in data:\n",
    "        #     f.write(f\"{item['completion']}\\n\")\n",
    "    print(\"Done\")"
   ]
  }
 ],
 "metadata": {
  "kernelspec": {
   "display_name": "Python 3",
   "language": "python",
   "name": "python3"
  },
  "language_info": {
   "codemirror_mode": {
    "name": "ipython",
    "version": 3
   },
   "file_extension": ".py",
   "mimetype": "text/x-python",
   "name": "python",
   "nbconvert_exporter": "python",
   "pygments_lexer": "ipython3",
   "version": "3.9.4"
  },
  "orig_nbformat": 4
 },
 "nbformat": 4,
 "nbformat_minor": 2
}
