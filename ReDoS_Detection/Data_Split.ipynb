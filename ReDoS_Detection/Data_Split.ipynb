{
 "cells": [
  {
   "cell_type": "code",
   "execution_count": 1,
   "metadata": {},
   "outputs": [],
   "source": [
    "names = [\"Text_DaVinci_Raw_Output\",\"Text_DaVinci_Refined_Output\",\"GPT3.5_Raw_Output\",\"GPT3.5_Refined_Output\"]\n"
   ]
  },
  {
   "cell_type": "code",
   "execution_count": 2,
   "metadata": {},
   "outputs": [],
   "source": [
    "for name in names:\n",
    "    with open(f'./Input_Data/{name}.txt', 'r') as f:\n",
    "        data = f.readlines()\n",
    "    data = [line.strip() for line in data]\n",
    "    # Split the data by 1000 lines each and put into different files. Take care of the last file.\n",
    "    for i in range(0, len(data), 1000):\n",
    "        with open(f'./Input_Data/{name}_{i}.txt', 'w') as f:\n",
    "            for line in data[i:i+1000]:\n",
    "                f.write(line)\n",
    "                f.write('\\n')\n"
   ]
  }
 ],
 "metadata": {
  "kernelspec": {
   "display_name": "Python 3",
   "language": "python",
   "name": "python3"
  },
  "language_info": {
   "codemirror_mode": {
    "name": "ipython",
    "version": 3
   },
   "file_extension": ".py",
   "mimetype": "text/x-python",
   "name": "python",
   "nbconvert_exporter": "python",
   "pygments_lexer": "ipython3",
   "version": "3.9.4"
  },
  "orig_nbformat": 4
 },
 "nbformat": 4,
 "nbformat_minor": 2
}
