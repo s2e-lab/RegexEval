{
 "cells": [
  {
   "cell_type": "code",
   "execution_count": 1,
   "metadata": {},
   "outputs": [],
   "source": [
    "import json\n",
    "import json\n",
    "from typing import List, Union\n",
    "import itertools\n",
    "\n",
    "import numpy as np\n",
    "from collections import defaultdict\n"
   ]
  },
  {
   "cell_type": "code",
   "execution_count": 2,
   "metadata": {},
   "outputs": [],
   "source": [
    "def estimate_pass_at_k(\n",
    "    num_samples: Union[int, List[int], np.ndarray],\n",
    "    num_correct: Union[List[int], np.ndarray],\n",
    "    k: int\n",
    ") -> np.ndarray:\n",
    "    \"\"\"\n",
    "    Estimates pass@k of each problem and returns them in an array.\n",
    "    \"\"\"\n",
    "\n",
    "    def estimator(n: int, c: int, k: int) -> float:\n",
    "        \"\"\"\n",
    "        Calculates 1 - comb(n - c, k) / comb(n, k).\n",
    "        \"\"\"\n",
    "        if n - c < k:\n",
    "            return 1.0\n",
    "        return 1.0 - np.prod(1.0 - k / np.arange(n - c + 1, n + 1))\n",
    "\n",
    "    if isinstance(num_samples, int):\n",
    "        num_samples_it = itertools.repeat(num_samples, len(num_correct))\n",
    "    else:\n",
    "        assert len(num_samples) == len(num_correct)\n",
    "        num_samples_it = iter(num_samples)\n",
    "\n",
    "    return np.array([estimator(int(n), int(c), k) for n, c in zip(num_samples_it, num_correct)])\n"
   ]
  },
  {
   "cell_type": "code",
   "execution_count": 10,
   "metadata": {},
   "outputs": [],
   "source": [
    "def parse_rescue(text, offset=0):\n",
    "    # Split the text into sections using \"id:\" as a delimiter\n",
    "\n",
    "    sections = text.split('-------------------------')\n",
    "    \n",
    "    # Initialize a list to store the parsed data\n",
    "    parsed_data = []\n",
    "    \n",
    "    # Iterate through each section (excluding the first empty section)\n",
    "    for section in sections:\n",
    "        # Initialize a dictionary to store the parsed information for this section\n",
    "        section_data = {}\n",
    "\n",
    "        current_data = section.split('\\n')\n",
    "        if current_data[0] == '':\n",
    "            current_data = current_data[1:]\n",
    "        \n",
    "        if len(current_data) < 3:\n",
    "            continue\n",
    "\n",
    "        \n",
    "        # Extract the ID\n",
    "        section_data['id'] = (offset + int(current_data[0].split(\":\")[-1].strip())-1)//10\n",
    "\n",
    "        # Extract the status 1\n",
    "        section_data['pattern'] = current_data[1].strip()\n",
    "        \n",
    "        # Extract the status 1\n",
    "        section_data['status'] = current_data[2].strip()\n",
    "        \n",
    "        if section_data['status'] == \"RESULT-TRUE\":\n",
    "            section_data['status'] = True\n",
    "        else:\n",
    "            section_data['status'] = False\n",
    "        \n",
    "\n",
    "        # if section_data['status1'] != \"success\":\n",
    "        #     continue\n",
    "\n",
    "        # Extract the status 1\n",
    "        # section_data['status2'] = current_data[2].strip()\n",
    "\n",
    "        # # Extract the time\n",
    "        # section_data['time'] = current_data[3].strip()\n",
    "\n",
    "        # # Extract the pattern\n",
    "        # section_data['pattern'] = current_data[4].strip()\n",
    "\n",
    "        # Append the parsed data for this section to the list\n",
    "        parsed_data.append(section_data)\n",
    "    \n",
    "    return parsed_data"
   ]
  },
  {
   "cell_type": "code",
   "execution_count": 13,
   "metadata": {},
   "outputs": [
    {
     "name": "stdout",
     "output_type": "stream",
     "text": [
      "Text_DaVinci_Refined_Output\n",
      "{'pass@1': 0.03556430446194226, 'pass@5': 0.07322522184726908, 'pass@10': 0.09580052493438321}\n",
      "GPT3.5_Raw_Output\n",
      "{'pass@1': 0.035039370078740154, 'pass@5': 0.07655813856601257, 'pass@10': 0.0984251968503937}\n",
      "GPT3.5_Refined_Output\n",
      "{'pass@1': 0.03188976377952756, 'pass@5': 0.07124630254551514, 'pass@10': 0.09186351706036745}\n"
     ]
    }
   ],
   "source": [
    "names = [\"Text_DaVinci_Refined_Output\",\"GPT3.5_Raw_Output\",\"GPT3.5_Refined_Output\"]\n",
    "for name in names:\n",
    "    print(name)\n",
    "    outfilename = f'./ReDoSHunter_Results/{name}_full_result.txt'\n",
    "\n",
    "    with open(outfilename, 'r') as f:\n",
    "        result = f.read()\n",
    "    redoshunter_data = parse_rescue(result)\n",
    "\n",
    "    # print(rescue_data[0])\n",
    "\n",
    "\n",
    "    results = defaultdict(list)\n",
    "\n",
    "    for r in redoshunter_data:\n",
    "        results[r['id']].append(r)\n",
    "    \n",
    "\n",
    "    # Calculate pass@k.\n",
    "    total, correct = [], []\n",
    "    for result in results.values():\n",
    "            passed = [r[\"status\"] for r in result]\n",
    "            # print(passed)\n",
    "            total.append(len(passed))\n",
    "            correct.append(sum(passed))\n",
    "    total = np.array(total)\n",
    "    correct = np.array(correct)\n",
    "\n",
    "    ks = [1,5,10]\n",
    "    pass_at_k = {f\"pass@{k}\": estimate_pass_at_k(total, correct, k).mean()\n",
    "                        for k in ks if (total >= k).all()}\n",
    "    print(pass_at_k)"
   ]
  },
  {
   "cell_type": "code",
   "execution_count": 16,
   "metadata": {},
   "outputs": [
    {
     "name": "stdout",
     "output_type": "stream",
     "text": [
      "8\n"
     ]
    }
   ],
   "source": [
    "# find all text files in a folder\n",
    "import glob\n",
    "import os\n",
    "\n",
    "path = './ReDoSHunter_Results/Text_DaVinci_Raw/'\n",
    "files = [f for f in glob.glob(path + \"**/*.txt\", recursive=True)]\n",
    "filenames = []\n",
    "for file in files:\n",
    "    if \"only\" not in file:\n",
    "        filenames.append(file)\n",
    "print(len(filenames))\n"
   ]
  },
  {
   "cell_type": "code",
   "execution_count": null,
   "metadata": {},
   "outputs": [],
   "source": [
    "for file in filenames:\n",
    "    print(file)\n",
    "    offset = int(file.split(\"_\")[7])\n",
    "    # print(offset)\n",
    "    with open(file, 'r') as f:\n",
    "        result = f.read()\n",
    "    redoshunter_data = parse_rescue(result, offset=offset)\n",
    "\n",
    "    # print(rescue_data[0])\n"
   ]
  },
  {
   "cell_type": "code",
   "execution_count": 21,
   "metadata": {},
   "outputs": [
    {
     "name": "stdout",
     "output_type": "stream",
     "text": [
      "./ReDoSHunter_Results/Text_DaVinci_Raw/Text_DaVinci_Raw_Output_4000_redos_s_java_11111_0_2023_09_10_20_40_36.txt\n",
      "{'pass@1': 0.03900000000000001, 'pass@5': 0.09781746031746032, 'pass@10': 0.13}\n",
      "./ReDoSHunter_Results/Text_DaVinci_Raw/Text_DaVinci_Raw_Output_1000_redos_s_java_11111_0_2023_09_10_19_26_05.txt\n",
      "{'pass@1': 0.028000000000000004, 'pass@5': 0.0680952380952381, 'pass@10': 0.09}\n",
      "./ReDoSHunter_Results/Text_DaVinci_Raw/Text_DaVinci_Raw_Output_2000_redos_s_java_11111_0_2023_09_10_19_31_52.txt\n",
      "{'pass@1': 0.012999999999999998, 'pass@5': 0.025, 'pass@10': 0.03}\n",
      "./ReDoSHunter_Results/Text_DaVinci_Raw/Text_DaVinci_Raw_Output_0_redos_s_java_11111_0_2023_09_10_19_26_02.txt\n",
      "{'pass@1': 0.039, 'pass@5': 0.0982936507936508, 'pass@10': 0.14}\n",
      "./ReDoSHunter_Results/Text_DaVinci_Raw/Text_DaVinci_Raw_Output_7000_redos_s_java_11111_0_2023_09_10_20_11_49.txt\n",
      "{'pass@1': 0.016129032258064516, 'pass@5': 0.06989247311827958, 'pass@10': 0.11290322580645161}\n",
      "./ReDoSHunter_Results/Text_DaVinci_Raw/Text_DaVinci_Raw_Output_5000_redos_s_java_11111_0_2023_09_10_19_52_39.txt\n",
      "{'pass@1': 0.05399999999999999, 'pass@5': 0.1155952380952381, 'pass@10': 0.14}\n",
      "./ReDoSHunter_Results/Text_DaVinci_Raw/Text_DaVinci_Raw_Output_3000_redos_s_java_11111_0_2023_09_10_19_34_34.txt\n",
      "{'pass@1': 0.061, 'pass@5': 0.11936507936507937, 'pass@10': 0.14}\n",
      "./ReDoSHunter_Results/Text_DaVinci_Raw/Text_DaVinci_Raw_Output_6000_redos_s_java_11111_0_2023_09_10_20_25_14.txt\n",
      "{'pass@1': 0.033, 'pass@5': 0.10027777777777777, 'pass@10': 0.15}\n"
     ]
    }
   ],
   "source": [
    "\n",
    "\n",
    "results = defaultdict(list)\n",
    "\n",
    "for r in redoshunter_data:\n",
    "        results[r['id']].append(r)\n",
    "    \n",
    "\n",
    "    # Calculate pass@k.\n",
    "total, correct = [], []\n",
    "for result in results.values():\n",
    "            passed = [r[\"status\"] for r in result]\n",
    "            # print(passed)\n",
    "            total.append(len(passed))\n",
    "            correct.append(sum(passed))\n",
    "total = np.array(total)\n",
    "correct = np.array(correct)\n",
    "\n",
    "ks = [1,5,10]\n",
    "pass_at_k = {f\"pass@{k}\": estimate_pass_at_k(total, correct, k).mean()\n",
    "                        for k in ks if (total >= k).all()}\n",
    "print(pass_at_k)"
   ]
  },
  {
   "cell_type": "code",
   "execution_count": null,
   "metadata": {},
   "outputs": [],
   "source": []
  }
 ],
 "metadata": {
  "kernelspec": {
   "display_name": "Python 3",
   "language": "python",
   "name": "python3"
  },
  "language_info": {
   "codemirror_mode": {
    "name": "ipython",
    "version": 3
   },
   "file_extension": ".py",
   "mimetype": "text/x-python",
   "name": "python",
   "nbconvert_exporter": "python",
   "pygments_lexer": "ipython3",
   "version": "3.9.4"
  },
  "orig_nbformat": 4
 },
 "nbformat": 4,
 "nbformat_minor": 2
}
