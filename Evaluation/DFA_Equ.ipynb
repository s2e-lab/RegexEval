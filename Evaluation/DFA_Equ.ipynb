{
 "cells": [
  {
   "cell_type": "code",
   "execution_count": 1,
   "metadata": {},
   "outputs": [],
   "source": [
    "import subprocess\n",
    "import json"
   ]
  },
  {
   "cell_type": "code",
   "execution_count": 2,
   "metadata": {},
   "outputs": [],
   "source": [
    "def regex_equiv(gold, predicted):\n",
    "    if gold == predicted:\n",
    "        return True\n",
    "    try:\n",
    "        out = subprocess.check_output(['java', '-jar', 'regex_dfa_equals.jar', '{}'.format(gold), '{}'.format(predicted)])\n",
    "#          print(\"out: {}\".format(out))\n",
    "        #print(out.decode('utf-8'))\n",
    "        if '\\n1' in out.decode('utf-8'):\n",
    "            return True\n",
    "        else:\n",
    "            return False\n",
    "    except Exception as e:\n",
    "        return False\n"
   ]
  },
  {
   "cell_type": "code",
   "execution_count": null,
   "metadata": {},
   "outputs": [],
   "source": [
    "\n",
    "names = [\"Phi_Raw_Output\",\"Phi_Refined_Output\"]\n",
    "for name in names:\n",
    "    print(\"Starting: \", name)\n",
    "    filename = f'../Generation/{name}.json'\n",
    "    outfilename = f'./{name}_DFA_Result.json'\n",
    "\n",
    "    with open(filename, 'r') as f:\n",
    "        data = json.load(f)\n",
    "    print(len(data))\n",
    "\n",
    "    dfa_result = []\n",
    "    for item in data:\n",
    "        print(\"Starting item: \", item['id'])\n",
    "        id = item['id']\n",
    "        gold_expression = item['expression']\n",
    "        # print (\"Expression: \", gold_expression)\n",
    "        for i in range(len(item['phi_output'])):\n",
    "            predicted_expression = item['phi_output'][i]['text']\n",
    "            item['completion'] = predicted_expression\n",
    "            passed = regex_equiv(gold_expression, predicted_expression)\n",
    "            \n",
    "            dfa_result.append({\n",
    "                'id': id,\n",
    "                'completion': predicted_expression,\n",
    "                'passed': passed\n",
    "            })  \n",
    "        print(\"Ending item: \", item['id'])\n",
    "\n",
    "    with open(outfilename, 'w') as f:\n",
    "        json.dump(dfa_result, f, indent=4)"
   ]
  }
 ],
 "metadata": {
  "kernelspec": {
   "display_name": "Python 3",
   "language": "python",
   "name": "python3"
  },
  "language_info": {
   "codemirror_mode": {
    "name": "ipython",
    "version": 3
   },
   "file_extension": ".py",
   "mimetype": "text/x-python",
   "name": "python",
   "nbconvert_exporter": "python",
   "pygments_lexer": "ipython3",
   "version": "3.9.4"
  },
  "orig_nbformat": 4
 },
 "nbformat": 4,
 "nbformat_minor": 2
}
