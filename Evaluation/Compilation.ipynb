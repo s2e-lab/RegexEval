{
 "cells": [
  {
   "cell_type": "code",
   "execution_count": null,
   "metadata": {},
   "outputs": [],
   "source": [
    "import re\n",
    "import json\n",
    "from timeout_decorator import timeout"
   ]
  },
  {
   "cell_type": "code",
   "execution_count": null,
   "metadata": {},
   "outputs": [],
   "source": [
    "name = \"Phi_Raw_Output\"\n",
    "filename = f'../Generation/Output/{name}.json'\n",
    "outfilename = f'./{name}_Compiled_Result.json'"
   ]
  },
  {
   "cell_type": "code",
   "execution_count": null,
   "metadata": {},
   "outputs": [],
   "source": [
    "with open(filename, 'r') as f:\n",
    "    data = json.load(f)\n",
    "len(data)"
   ]
  },
  {
   "cell_type": "code",
   "execution_count": null,
   "metadata": {},
   "outputs": [],
   "source": [
    "@timeout(60)\n",
    "def match_expression(expression, text):\n",
    "    try:\n",
    "        return re.search(expression, text) is not None\n",
    "    except Exception as e:\n",
    "        print(expression,\": \", e)\n",
    "        return None"
   ]
  },
  {
   "cell_type": "code",
   "execution_count": null,
   "metadata": {},
   "outputs": [],
   "source": [
    "compilation_result = []\n",
    "for item in data:\n",
    "    print(\"Starting item: \", item['id'])\n",
    "    id = item['id']\n",
    "    matches = item['matches']\n",
    "    non_matches = item['non_matches']\n",
    "    # for completion in item['t5_output']:\n",
    "    #     expression = completion['generated_text']\n",
    "    for i in range(len(item['phi_output'])):\n",
    "        expression = item['phi_output'][i]['text']\n",
    "        item['completion'] = expression\n",
    "        is_valid = True\n",
    "        for match in matches:\n",
    "            for match in matches:\n",
    "                try:\n",
    "                    is_match = match_expression(expression, match)\n",
    "                except TimeoutError:\n",
    "                    print(\"TimeoutError: \", expression, match)\n",
    "                    is_match = None\n",
    "                if is_match is None or is_match == False:\n",
    "                    is_valid = False\n",
    "                    break\n",
    "        for non_match in non_matches:\n",
    "            try:\n",
    "                is_match = match_expression(expression, non_match)\n",
    "            except TimeoutError:\n",
    "                print(\"TimeoutError: \", expression, match)\n",
    "                is_match = None\n",
    "            if is_match is None or is_match == True:\n",
    "                is_valid = False\n",
    "                break\n",
    "        item['passed'] = is_valid\n",
    "        compilation_result.append({\n",
    "            'id': id,\n",
    "            'completion': expression,\n",
    "            'passed': is_valid\n",
    "        })  \n",
    "    print(\"Ending item: \", item['id'])"
   ]
  },
  {
   "cell_type": "code",
   "execution_count": null,
   "metadata": {},
   "outputs": [],
   "source": [
    "with open(f'./Output/{outfilename}', 'w') as f:\n",
    "    json.dump(compilation_result, f, indent=4)"
   ]
  }
 ],
 "metadata": {
  "kernelspec": {
   "display_name": "Python 3",
   "language": "python",
   "name": "python3"
  },
  "language_info": {
   "codemirror_mode": {
    "name": "ipython",
    "version": 3
   },
   "file_extension": ".py",
   "mimetype": "text/x-python",
   "name": "python",
   "nbconvert_exporter": "python",
   "pygments_lexer": "ipython3",
   "version": "3.9.4"
  },
  "orig_nbformat": 4
 },
 "nbformat": 4,
 "nbformat_minor": 2
}
