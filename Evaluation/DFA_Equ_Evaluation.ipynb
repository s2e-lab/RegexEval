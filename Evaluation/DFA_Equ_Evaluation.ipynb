{
 "cells": [
  {
   "cell_type": "code",
   "execution_count": 1,
   "metadata": {},
   "outputs": [],
   "source": [
    "import subprocess\n",
    "import json"
   ]
  },
  {
   "cell_type": "code",
   "execution_count": 2,
   "metadata": {},
   "outputs": [],
   "source": [
    "def regex_equiv(gold, predicted):\n",
    "    if gold == predicted:\n",
    "        return True\n",
    "    try:\n",
    "        out = subprocess.check_output(['java', '-jar', 'regex_dfa_equals.jar', '{}'.format(gold), '{}'.format(predicted)])\n",
    "#          print(\"out: {}\".format(out))\n",
    "        #print(out.decode('utf-8'))\n",
    "        if '\\n1' in out.decode('utf-8'):\n",
    "            return True\n",
    "        else:\n",
    "            return False\n",
    "    except Exception as e:\n",
    "        return False\n"
   ]
  },
  {
   "cell_type": "code",
   "execution_count": null,
   "metadata": {},
   "outputs": [],
   "source": [
    "\n",
    "names = [\"Phi_Raw_Output\",\"Phi_Refined_Output\"]\n",
    "for name in names:\n",
    "    print(\"Starting: \", name)\n",
    "    filename = f'../Generation/Output/{name}.json'\n",
    "    outfilename = f'./Output/{name}_DFA_Result.json'\n",
    "\n",
    "    with open(filename, 'r') as f:\n",
    "        data = json.load(f)\n",
    "    print(len(data))\n",
    "\n",
    "    dfa_result = []\n",
    "    for item in data:\n",
    "        print(\"Starting item: \", item['id'])\n",
    "        id = item['id']\n",
    "        gold_expression = item['expression']\n",
    "        # print (\"Expression: \", gold_expression)\n",
    "        for i in range(len(item['phi_output'])):\n",
    "            predicted_expression = item['phi_output'][i]['text']\n",
    "            item['completion'] = predicted_expression\n",
    "            passed = regex_equiv(gold_expression, predicted_expression)\n",
    "            \n",
    "            dfa_result.append({\n",
    "                'id': id,\n",
    "                'completion': predicted_expression,\n",
    "                'passed': passed\n",
    "            })  \n",
    "        print(\"Ending item: \", item['id'])\n",
    "\n",
    "    with open(outfilename, 'w') as f:\n",
    "        json.dump(dfa_result, f, indent=4)"
   ]
  },
  {
   "cell_type": "code",
   "execution_count": null,
   "metadata": {},
   "outputs": [],
   "source": [
    "# Write a code for pass@k\n",
    "def pass_at_k(results, ks):\n",
    "    total = len(results)\n",
    "    for k in ks:\n",
    "        correct = 0\n",
    "        for result in results.values():\n",
    "            passed = [r[\"passed\"] for r in result[:k]]\n",
    "            correct += (1 if sum(passed)!=0 else 0)\n",
    "        print(f\"DFA-EQ@{k}: {(correct/total)*100}\")\n",
    "\n",
    "        \n",
    "\n",
    "    "
   ]
  },
  {
   "cell_type": "code",
   "execution_count": null,
   "metadata": {},
   "outputs": [],
   "source": [
    "# names = [\"Text_DaVinci_Raw_Output\",\"Text_DaVinci_Refined_Output\",\"GPT3.5_Raw_Output\",\"GPT3.5_Refined_Output\", \"T5_Raw_Output\",\"T5_Refined_Output\"]\n",
    "names = [\"Phi_Raw_Output\",\"Phi_Refined_Output\"]\n",
    "matrix = \"DFA\"\n",
    "for name in names:\n",
    "    print(name)\n",
    "    filename = f'../Generation/Output/{name}.json'\n",
    "    outfilename = f'./Output/{name}_{matrix}_Result.json'\n",
    "\n",
    "    with open(outfilename, 'r') as f:\n",
    "        result = json.load(f)\n",
    "\n",
    "    results = defaultdict(list)\n",
    "\n",
    "\n",
    "    for r in result:\n",
    "        results[r['id']].append(r)\n",
    "\n",
    "    pass_at_k(results, [1,3,10])\n",
    "\n",
    "    # Calculate pass@k.\n",
    "    total, correct = [], []\n",
    "    for result in results.values():\n",
    "        passed = [r[\"passed\"] for r in result]\n",
    "        total.append(len(passed))\n",
    "        correct.append(sum(passed))\n",
    "    total = np.array(total)\n",
    "    correct = np.array(correct)\n",
    "    # print(total, correct)\n",
    "    ks = [1,3,10]\n",
    "    pass_at_k_result = {f\"pass@{k}\": (estimate_pass_at_k(total, correct, k).mean())*100\n",
    "                        for k in ks if (total >= k).all()}\n",
    "    print(pass_at_k_result)\n"
   ]
  }
 ],
 "metadata": {
  "kernelspec": {
   "display_name": "Python 3",
   "language": "python",
   "name": "python3"
  },
  "language_info": {
   "codemirror_mode": {
    "name": "ipython",
    "version": 3
   },
   "file_extension": ".py",
   "mimetype": "text/x-python",
   "name": "python",
   "nbconvert_exporter": "python",
   "pygments_lexer": "ipython3",
   "version": "3.9.4"
  },
  "orig_nbformat": 4
 },
 "nbformat": 4,
 "nbformat_minor": 2
}
