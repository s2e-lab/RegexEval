{
 "cells": [
  {
   "cell_type": "code",
   "execution_count": null,
   "metadata": {},
   "outputs": [],
   "source": [
    "import json"
   ]
  },
  {
   "cell_type": "code",
   "execution_count": null,
   "metadata": {},
   "outputs": [],
   "source": [
    "# names = [\"Phi_Raw_Output\",\"Phi_Refined_Output\",\"Text_DaVinci_Raw_Output\",\"Text_DaVinci_Refined_Output\",\"GPT3.5_Raw_Output\",\"GPT3.5_Refined_Output\", \"T5_Raw_Output\",\"T5_Refined_Output\"]\n",
    "names = [\"GPT3.5_Raw_Output\",\"GPT3.5_Refined_Output\"]\n",
    "for name in names:\n",
    "    print(name)\n",
    "    filename = f'../Generation/Output/{name}.json'\n",
    "    with open(filename) as f:\n",
    "        data = json.load(f)\n",
    "    print(len(data))\n",
    "    count_matches =0\n",
    "    for item in data:\n",
    "        ground_truth = item[\"expression\"]\n",
    "        for choice in item[\"gpt3.5_output\"][\"choices\"]:\n",
    "            predicted = choice[\"message\"][\"content\"]\n",
    "            if predicted == ground_truth:\n",
    "                count_matches +=1\n",
    "\n",
    "    print((count_matches/len(data))*100)"
   ]
  },
  {
   "cell_type": "code",
   "execution_count": null,
   "metadata": {},
   "outputs": [],
   "source": []
  }
 ],
 "metadata": {
  "kernelspec": {
   "display_name": "Python 3",
   "language": "python",
   "name": "python3"
  },
  "language_info": {
   "codemirror_mode": {
    "name": "ipython",
    "version": 3
   },
   "file_extension": ".py",
   "mimetype": "text/x-python",
   "name": "python",
   "nbconvert_exporter": "python",
   "pygments_lexer": "ipython3",
   "version": "3.9.4"
  },
  "orig_nbformat": 4
 },
 "nbformat": 4,
 "nbformat_minor": 2
}
