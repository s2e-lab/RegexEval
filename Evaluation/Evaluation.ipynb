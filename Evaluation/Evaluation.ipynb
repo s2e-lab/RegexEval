{
 "cells": [
  {
   "cell_type": "code",
   "execution_count": 23,
   "metadata": {},
   "outputs": [],
   "source": [
    "import json\n",
    "from typing import List, Union\n",
    "import itertools\n",
    "\n",
    "import numpy as np\n",
    "from collections import defaultdict\n"
   ]
  },
  {
   "cell_type": "code",
   "execution_count": 24,
   "metadata": {},
   "outputs": [],
   "source": [
    "def estimate_pass_at_k(\n",
    "    num_samples: Union[int, List[int], np.ndarray],\n",
    "    num_correct: Union[List[int], np.ndarray],\n",
    "    k: int\n",
    ") -> np.ndarray:\n",
    "    \"\"\"\n",
    "    Estimates pass@k of each problem and returns them in an array.\n",
    "    \"\"\"\n",
    "\n",
    "    def estimator(n: int, c: int, k: int) -> float:\n",
    "        \"\"\"\n",
    "        Calculates 1 - comb(n - c, k) / comb(n, k).\n",
    "        \"\"\"\n",
    "        if n - c < k:\n",
    "            return 1.0\n",
    "        return 1.0 - np.prod(1.0 - k / np.arange(n - c + 1, n + 1))\n",
    "\n",
    "    if isinstance(num_samples, int):\n",
    "        num_samples_it = itertools.repeat(num_samples, len(num_correct))\n",
    "    else:\n",
    "        assert len(num_samples) == len(num_correct)\n",
    "        num_samples_it = iter(num_samples)\n",
    "\n",
    "    return np.array([estimator(int(n), int(c), k) for n, c in zip(num_samples_it, num_correct)])\n"
   ]
  },
  {
   "cell_type": "code",
   "execution_count": 25,
   "metadata": {},
   "outputs": [
    {
     "name": "stdout",
     "output_type": "stream",
     "text": [
      "Text_DaVinci_Raw_Output\n",
      "{'pass@1': 0.1757217847769029, 'pass@3': 0.2667541557305337, 'pass@5': 0.30535245594300714, 'pass@10': 0.3543307086614173}\n",
      "Text_DaVinci_Refined_Output\n",
      "{'pass@1': 0.26968503937007876, 'pass@3': 0.373611111111111, 'pass@5': 0.4144586093404991, 'pass@10': 0.463254593175853}\n",
      "GPT3.5_Raw_Output\n",
      "{'pass@1': 0.3341207349081365, 'pass@3': 0.44496937882764653, 'pass@5': 0.4849914594009082, 'pass@10': 0.5249343832020997}\n",
      "GPT3.5_Refined_Output\n",
      "{'pass@1': 0.33556430446194224, 'pass@3': 0.4437226596675415, 'pass@5': 0.48302816314627345, 'pass@10': 0.5288713910761155}\n"
     ]
    }
   ],
   "source": [
    "names = [\"Text_DaVinci_Raw_Output\",\"Text_DaVinci_Refined_Output\",\"GPT3.5_Raw_Output\",\"GPT3.5_Refined_Output\"]\n",
    "for name in names:\n",
    "    print(name)\n",
    "    filename = f'../Generation/{name}.json'\n",
    "    outfilename = f'./{name}_Compiled_Result.json'\n",
    "\n",
    "    with open(outfilename, 'r') as f:\n",
    "        result = json.load(f)\n",
    "\n",
    "    results = defaultdict(list)\n",
    "\n",
    "    for r in result:\n",
    "        results[r['id']].append(r)\n",
    "\n",
    "    # Calculate pass@k.\n",
    "    total, correct = [], []\n",
    "    for result in results.values():\n",
    "            passed = [r[\"is_valid\"] for r in result]\n",
    "            total.append(len(passed))\n",
    "            correct.append(sum(passed))\n",
    "    total = np.array(total)\n",
    "    correct = np.array(correct)\n",
    "\n",
    "    ks = [1,3,5,10]\n",
    "    pass_at_k = {f\"pass@{k}\": estimate_pass_at_k(total, correct, k).mean()\n",
    "                        for k in ks if (total >= k).all()}\n",
    "    print(pass_at_k)"
   ]
  }
 ],
 "metadata": {
  "kernelspec": {
   "display_name": "Python 3",
   "language": "python",
   "name": "python3"
  },
  "language_info": {
   "codemirror_mode": {
    "name": "ipython",
    "version": 3
   },
   "file_extension": ".py",
   "mimetype": "text/x-python",
   "name": "python",
   "nbconvert_exporter": "python",
   "pygments_lexer": "ipython3",
   "version": "3.9.4"
  },
  "orig_nbformat": 4
 },
 "nbformat": 4,
 "nbformat_minor": 2
}
