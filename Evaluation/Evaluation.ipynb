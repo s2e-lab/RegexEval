{
 "cells": [
  {
   "cell_type": "code",
   "execution_count": 10,
   "metadata": {},
   "outputs": [],
   "source": [
    "import json\n",
    "from typing import List, Union\n",
    "import itertools\n",
    "\n",
    "import numpy as np\n",
    "from collections import defaultdict\n"
   ]
  },
  {
   "cell_type": "code",
   "execution_count": 11,
   "metadata": {},
   "outputs": [],
   "source": [
    "def estimate_pass_at_k(\n",
    "    num_samples: Union[int, List[int], np.ndarray],\n",
    "    num_correct: Union[List[int], np.ndarray],\n",
    "    k: int\n",
    ") -> np.ndarray:\n",
    "    \"\"\"\n",
    "    Estimates pass@k of each problem and returns them in an array.\n",
    "    \"\"\"\n",
    "\n",
    "    def estimator(n: int, c: int, k: int) -> float:\n",
    "        \"\"\"\n",
    "        Calculates 1 - comb(n - c, k) / comb(n, k).\n",
    "        \"\"\"\n",
    "        if n - c < k:\n",
    "            return 1.0\n",
    "        return 1.0 - np.prod(1.0 - k / np.arange(n - c + 1, n + 1))\n",
    "\n",
    "    if isinstance(num_samples, int):\n",
    "        num_samples_it = itertools.repeat(num_samples, len(num_correct))\n",
    "    else:\n",
    "        assert len(num_samples) == len(num_correct)\n",
    "        num_samples_it = iter(num_samples)\n",
    "\n",
    "    return np.array([estimator(int(n), int(c), k) for n, c in zip(num_samples_it, num_correct)])\n"
   ]
  },
  {
   "cell_type": "code",
   "execution_count": 17,
   "metadata": {},
   "outputs": [
    {
     "name": "stdout",
     "output_type": "stream",
     "text": [
      "Text_DaVinci_Raw_Output\n",
      "{'pass@1': 17.57217847769029, 'pass@3': 26.675415573053368, 'pass@10': 35.43307086614173}\n",
      "Text_DaVinci_Refined_Output\n",
      "{'pass@1': 26.968503937007878, 'pass@3': 37.3611111111111, 'pass@10': 46.3254593175853}\n",
      "GPT3.5_Raw_Output\n",
      "{'pass@1': 33.41207349081365, 'pass@3': 44.496937882764655, 'pass@10': 52.493438320209975}\n",
      "GPT3.5_Refined_Output\n",
      "{'pass@1': 33.55643044619423, 'pass@3': 44.37226596675415, 'pass@10': 52.887139107611546}\n",
      "T5_Raw_Output\n",
      "{'pass@1': 0.10498687664041995, 'pass@3': 0.13123359580052493, 'pass@10': 0.13123359580052493}\n",
      "T5_Refined_Output\n",
      "{'pass@1': 0.03937007874015749, 'pass@3': 0.10936132983377078, 'pass@10': 0.26246719160104987}\n"
     ]
    }
   ],
   "source": [
    "names = [\"Text_DaVinci_Raw_Output\",\"Text_DaVinci_Refined_Output\",\"GPT3.5_Raw_Output\",\"GPT3.5_Refined_Output\", \"T5_Raw_Output\",\"T5_Refined_Output\"]\n",
    "#names = [\"Phi_Raw_Output\",\"Phi_Refined_Output\"]\n",
    "\n",
    "matrix = \"Compiled\"\n",
    "for name in names:\n",
    "    print(name)\n",
    "    filename = f'../Generation/{name}.json'\n",
    "    outfilename = f'./{name}_{matrix}_Result.json'\n",
    "\n",
    "    with open(outfilename, 'r') as f:\n",
    "        result = json.load(f)\n",
    "\n",
    "    results = defaultdict(list)\n",
    "\n",
    "    for r in result:\n",
    "        results[r['id']].append(r)\n",
    "\n",
    "    # Calculate pass@k.\n",
    "    total, correct = [], []\n",
    "    for result in results.values():\n",
    "        passed = [r[\"passed\"] for r in result]\n",
    "        total.append(len(passed))\n",
    "        correct.append(sum(passed))\n",
    "    total = np.array(total)\n",
    "    correct = np.array(correct)\n",
    "    # print(total, correct)\n",
    "    ks = [1,3,10]\n",
    "    pass_at_k = {f\"pass@{k}\": (estimate_pass_at_k(total, correct, k).mean())*100\n",
    "                        for k in ks if (total >= k).all()}\n",
    "    print(pass_at_k)\n"
   ]
  },
  {
   "cell_type": "code",
   "execution_count": 13,
   "metadata": {},
   "outputs": [],
   "source": [
    "# Write a code for pass@k\n",
    "def pass_at_k(results, ks):\n",
    "    total = len(results)\n",
    "    for k in ks:\n",
    "        correct = 0\n",
    "        for result in results.values():\n",
    "            passed = [r[\"passed\"] for r in result[:k]]\n",
    "            correct += (1 if sum(passed)!=0 else 0)\n",
    "        print(f\"DFA-EQ@{k}: {(correct/total)*100}\")\n",
    "\n",
    "        \n",
    "\n",
    "    "
   ]
  },
  {
   "cell_type": "code",
   "execution_count": 15,
   "metadata": {},
   "outputs": [
    {
     "name": "stdout",
     "output_type": "stream",
     "text": [
      "Phi_Raw_Output\n",
      "DFA-EQ@1: 1.4435695538057742\n",
      "DFA-EQ@3: 2.3622047244094486\n",
      "DFA-EQ@10: 6.299212598425196\n",
      "{'pass@1': 1.0629921259842519, 'pass@3': 2.6399825021872267, 'pass@10': 6.299212598425196}\n",
      "Phi_Refined_Output\n",
      "DFA-EQ@1: 0.0\n",
      "DFA-EQ@3: 2.3622047244094486\n",
      "DFA-EQ@10: 5.6430446194225725\n",
      "{'pass@1': 0.8792650918635171, 'pass@3': 2.3108048993875765, 'pass@10': 5.6430446194225725}\n"
     ]
    }
   ],
   "source": [
    "names = [\"Text_DaVinci_Raw_Output\",\"Text_DaVinci_Refined_Output\",\"GPT3.5_Raw_Output\",\"GPT3.5_Refined_Output\", \"T5_Raw_Output\",\"T5_Refined_Output\"]\n",
    "names = [\"Phi_Raw_Output\",\"Phi_Refined_Output\"]\n",
    "matrix = \"DFA\"\n",
    "for name in names:\n",
    "    print(name)\n",
    "    filename = f'../Generation/{name}.json'\n",
    "    outfilename = f'./{name}_{matrix}_Result.json'\n",
    "\n",
    "    with open(outfilename, 'r') as f:\n",
    "        result = json.load(f)\n",
    "\n",
    "    results = defaultdict(list)\n",
    "\n",
    "\n",
    "    for r in result:\n",
    "        results[r['id']].append(r)\n",
    "\n",
    "    pass_at_k(results, [1,3,10])\n",
    "\n",
    "    # Calculate pass@k.\n",
    "    total, correct = [], []\n",
    "    for result in results.values():\n",
    "        passed = [r[\"passed\"] for r in result]\n",
    "        total.append(len(passed))\n",
    "        correct.append(sum(passed))\n",
    "    total = np.array(total)\n",
    "    correct = np.array(correct)\n",
    "    # print(total, correct)\n",
    "    ks = [1,3,10]\n",
    "    pass_at_k_result = {f\"pass@{k}\": (estimate_pass_at_k(total, correct, k).mean())*100\n",
    "                        for k in ks if (total >= k).all()}\n",
    "    print(pass_at_k_result)\n"
   ]
  }
 ],
 "metadata": {
  "kernelspec": {
   "display_name": "Python 3",
   "language": "python",
   "name": "python3"
  },
  "language_info": {
   "codemirror_mode": {
    "name": "ipython",
    "version": 3
   },
   "file_extension": ".py",
   "mimetype": "text/x-python",
   "name": "python",
   "nbconvert_exporter": "python",
   "pygments_lexer": "ipython3",
   "version": "3.9.4"
  },
  "orig_nbformat": 4
 },
 "nbformat": 4,
 "nbformat_minor": 2
}
