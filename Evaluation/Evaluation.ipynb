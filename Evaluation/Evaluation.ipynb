{
 "cells": [
  {
   "cell_type": "code",
   "execution_count": 1,
   "metadata": {},
   "outputs": [],
   "source": [
    "import json\n",
    "from typing import List, Union\n",
    "import itertools\n",
    "\n",
    "import numpy as np\n",
    "from collections import defaultdict\n"
   ]
  },
  {
   "cell_type": "code",
   "execution_count": 2,
   "metadata": {},
   "outputs": [],
   "source": [
    "def estimate_pass_at_k(\n",
    "    num_samples: Union[int, List[int], np.ndarray],\n",
    "    num_correct: Union[List[int], np.ndarray],\n",
    "    k: int\n",
    ") -> np.ndarray:\n",
    "    \"\"\"\n",
    "    Estimates pass@k of each problem and returns them in an array.\n",
    "    \"\"\"\n",
    "\n",
    "    def estimator(n: int, c: int, k: int) -> float:\n",
    "        \"\"\"\n",
    "        Calculates 1 - comb(n - c, k) / comb(n, k).\n",
    "        \"\"\"\n",
    "        if n - c < k:\n",
    "            return 1.0\n",
    "        return 1.0 - np.prod(1.0 - k / np.arange(n - c + 1, n + 1))\n",
    "\n",
    "    if isinstance(num_samples, int):\n",
    "        num_samples_it = itertools.repeat(num_samples, len(num_correct))\n",
    "    else:\n",
    "        assert len(num_samples) == len(num_correct)\n",
    "        num_samples_it = iter(num_samples)\n",
    "\n",
    "    return np.array([estimator(int(n), int(c), k) for n, c in zip(num_samples_it, num_correct)])\n"
   ]
  },
  {
   "cell_type": "code",
   "execution_count": 3,
   "metadata": {},
   "outputs": [
    {
     "name": "stdout",
     "output_type": "stream",
     "text": [
      "Phi_Raw_Output\n",
      "{'pass@1': 2.270341207349081, 'pass@5': 7.450110402866309, 'pass@10': 10.892388451443571}\n",
      "Phi_Refined_Output\n",
      "{'pass@1': 1.6666666666666667, 'pass@5': 6.2341165687622375, 'pass@10': 9.711286089238845}\n"
     ]
    }
   ],
   "source": [
    "# names = [\"Text_DaVinci_Raw_Output\",\"Text_DaVinci_Refined_Output\",\"GPT3.5_Raw_Output\",\"GPT3.5_Refined_Output\", \"T5_Raw_Output\",\"T5_Refined_Output\"]\n",
    "names = [\"Phi_Raw_Output\",\"Phi_Refined_Output\"]\n",
    "\n",
    "matrix = \"Compiled\"\n",
    "for name in names:\n",
    "    print(name)\n",
    "    filename = f'../Generation/{name}.json'\n",
    "    outfilename = f'./{name}_{matrix}_Result.json'\n",
    "\n",
    "    with open(outfilename, 'r') as f:\n",
    "        result = json.load(f)\n",
    "\n",
    "    results = defaultdict(list)\n",
    "\n",
    "    for r in result:\n",
    "        results[r['id']].append(r)\n",
    "\n",
    "    # Calculate pass@k.\n",
    "    total, correct = [], []\n",
    "    for result in results.values():\n",
    "        passed = [r[\"passed\"] for r in result]\n",
    "        total.append(len(passed))\n",
    "        correct.append(sum(passed))\n",
    "    total = np.array(total)\n",
    "    correct = np.array(correct)\n",
    "    # print(total, correct)\n",
    "    ks = [1,5,10]\n",
    "    pass_at_k = {f\"pass@{k}\": (estimate_pass_at_k(total, correct, k).mean())*100\n",
    "                        for k in ks if (total >= k).all()}\n",
    "    print(pass_at_k)\n"
   ]
  },
  {
   "cell_type": "code",
   "execution_count": 19,
   "metadata": {},
   "outputs": [],
   "source": [
    "# Write a code for pass@k\n",
    "def pass_at_k(results, ks):\n",
    "    total = len(results)\n",
    "    for k in ks:\n",
    "        correct = 0\n",
    "        for result in results.values():\n",
    "            passed = [r[\"passed\"] for r in result[:k]]\n",
    "            correct += (1 if sum(passed)!=0 else 0)\n",
    "        print(f\"DFA-EQ@{k}: {correct/total*100}\")\n",
    "\n",
    "        \n",
    "\n",
    "    "
   ]
  },
  {
   "cell_type": "code",
   "execution_count": 20,
   "metadata": {},
   "outputs": [
    {
     "name": "stdout",
     "output_type": "stream",
     "text": [
      "Text_DaVinci_Raw_Output\n",
      "DFA-EQ@1: 7.611548556430446\n",
      "DFA-EQ@3: 11.286089238845145\n",
      "DFA-EQ@10: 15.354330708661418\n",
      "{'pass@1': 6.981627296587926, 'pass@5': 13.00618672665917, 'pass@10': 15.354330708661418}\n",
      "Text_DaVinci_Refined_Output\n",
      "DFA-EQ@1: 10.104986876640421\n",
      "DFA-EQ@3: 14.304461942257218\n",
      "DFA-EQ@10: 17.191601049868765\n",
      "{'pass@1': 9.52755905511811, 'pass@5': 15.172582593842437, 'pass@10': 17.191601049868765}\n",
      "GPT3.5_Raw_Output\n",
      "DFA-EQ@1: 11.811023622047244\n",
      "DFA-EQ@3: 15.485564304461944\n",
      "DFA-EQ@10: 19.160104986876643\n",
      "{'pass@1': 10.787401574803148, 'pass@5': 16.760925717618633, 'pass@10': 19.160104986876643}\n",
      "GPT3.5_Refined_Output\n",
      "DFA-EQ@1: 10.36745406824147\n",
      "DFA-EQ@3: 14.960629921259844\n",
      "DFA-EQ@10: 18.766404199475065\n",
      "{'pass@1': 10.918635170603674, 'pass@5': 16.618755988834728, 'pass@10': 18.766404199475065}\n",
      "T5_Raw_Output\n",
      "DFA-EQ@1: 0.26246719160104987\n",
      "DFA-EQ@3: 0.39370078740157477\n",
      "DFA-EQ@10: 1.0498687664041995\n",
      "{'pass@1': 0.2493438320209974, 'pass@5': 0.663458734324876, 'pass@10': 1.0498687664041995}\n",
      "T5_Refined_Output\n",
      "DFA-EQ@1: 0.0\n",
      "DFA-EQ@3: 0.0\n",
      "DFA-EQ@10: 0.13123359580052493\n",
      "{'pass@1': 0.01312335958005249, 'pass@5': 0.06561679790026247, 'pass@10': 0.13123359580052493}\n"
     ]
    }
   ],
   "source": [
    "names = [\"Text_DaVinci_Raw_Output\",\"Text_DaVinci_Refined_Output\",\"GPT3.5_Raw_Output\",\"GPT3.5_Refined_Output\", \"T5_Raw_Output\",\"T5_Refined_Output\"]\n",
    "\n",
    "matrix = \"DFA\"\n",
    "for name in names:\n",
    "    print(name)\n",
    "    filename = f'../Generation/{name}.json'\n",
    "    outfilename = f'./{name}_{matrix}_Result.json'\n",
    "\n",
    "    with open(outfilename, 'r') as f:\n",
    "        result = json.load(f)\n",
    "\n",
    "    results = defaultdict(list)\n",
    "\n",
    "\n",
    "    for r in result:\n",
    "        results[r['id']].append(r)\n",
    "\n",
    "    pass_at_k(results, [1,3,10])\n",
    "\n",
    "    # Calculate pass@k.\n",
    "    total, correct = [], []\n",
    "    for result in results.values():\n",
    "        passed = [r[\"passed\"] for r in result]\n",
    "        total.append(len(passed))\n",
    "        correct.append(sum(passed))\n",
    "    total = np.array(total)\n",
    "    correct = np.array(correct)\n",
    "    # print(total, correct)\n",
    "    ks = [1,5,10]\n",
    "    pass_at_k = {f\"pass@{k}\": (estimate_pass_at_k(total, correct, k).mean())*100\n",
    "                        for k in ks if (total >= k).all()}\n",
    "    print(pass_at_k)\n"
   ]
  }
 ],
 "metadata": {
  "kernelspec": {
   "display_name": "Python 3",
   "language": "python",
   "name": "python3"
  },
  "language_info": {
   "codemirror_mode": {
    "name": "ipython",
    "version": 3
   },
   "file_extension": ".py",
   "mimetype": "text/x-python",
   "name": "python",
   "nbconvert_exporter": "python",
   "pygments_lexer": "ipython3",
   "version": "3.9.4"
  },
  "orig_nbformat": 4
 },
 "nbformat": 4,
 "nbformat_minor": 2
}
