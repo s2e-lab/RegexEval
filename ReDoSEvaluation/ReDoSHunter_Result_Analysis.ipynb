{
 "cells": [
  {
   "cell_type": "code",
   "execution_count": 1,
   "metadata": {},
   "outputs": [],
   "source": [
    "import json\n",
    "import json\n",
    "from typing import List, Union\n",
    "import itertools\n",
    "\n",
    "import numpy as np\n",
    "from collections import defaultdict\n"
   ]
  },
  {
   "cell_type": "code",
   "execution_count": 2,
   "metadata": {},
   "outputs": [],
   "source": [
    "def estimate_vul_at_k(\n",
    "    num_samples: Union[int, List[int], np.ndarray],\n",
    "    num_correct: Union[List[int], np.ndarray],\n",
    "    k: int\n",
    ") -> np.ndarray:\n",
    "    \"\"\"\n",
    "    Estimates vul@k of each problem and returns them in an array.\n",
    "    \"\"\"\n",
    "\n",
    "    def estimator(n: int, c: int, k: int) -> float:\n",
    "        \"\"\"\n",
    "        Calculates 1 - comb(n - c, k) / comb(n, k).\n",
    "        \"\"\"\n",
    "        if n - c < k:\n",
    "            return 1.0\n",
    "        return 1.0 - np.prod(1.0 - k / np.arange(n - c + 1, n + 1))\n",
    "\n",
    "    if isinstance(num_samples, int):\n",
    "        num_samples_it = itertools.repeat(num_samples, len(num_correct))\n",
    "    else:\n",
    "        assert len(num_samples) == len(num_correct)\n",
    "        num_samples_it = iter(num_samples)\n",
    "\n",
    "    return np.array([estimator(int(n), int(c), k) for n, c in zip(num_samples_it, num_correct)])\n"
   ]
  },
  {
   "cell_type": "code",
   "execution_count": 3,
   "metadata": {},
   "outputs": [],
   "source": [
    "def parse_rescue(text, offset=0):\n",
    "    # Split the text into sections using \"id:\" as a delimiter\n",
    "\n",
    "    sections = text.split('-------------------------')\n",
    "    \n",
    "    # Initialize a list to store the parsed data\n",
    "    parsed_data = []\n",
    "    \n",
    "    # Iterate through each section (excluding the first empty section)\n",
    "    for section in sections:\n",
    "        # Initialize a dictionary to store the parsed information for this section\n",
    "        section_data = {}\n",
    "        \n",
    "        current_data = section.split('\\n')\n",
    "        # print(current_data)\n",
    "        if current_data[0] == '':\n",
    "            current_data = current_data[1:]\n",
    "        \n",
    "        if len(current_data) < 3:\n",
    "            continue\n",
    "        \n",
    "        \n",
    "        # Extract the ID\n",
    "        section_data['id'] = (offset + int(current_data[0].split(\":\")[-1].strip())-1)//10\n",
    "\n",
    "        # Extract the status 1\n",
    "        section_data['pattern'] = current_data[1].strip()\n",
    "        \n",
    "        # Extract the status 1\n",
    "        section_data['status'] = current_data[2].strip()\n",
    "        \n",
    "        if section_data['status'] == \"RESULT-TRUE\":\n",
    "            section_data['status'] = True\n",
    "        else:\n",
    "            section_data['status'] = False\n",
    "        \n",
    "\n",
    "        # Append the parsed data for this section to the list\n",
    "        parsed_data.append(section_data)\n",
    "    \n",
    "    return parsed_data"
   ]
  },
  {
   "cell_type": "code",
   "execution_count": 4,
   "metadata": {},
   "outputs": [
    {
     "name": "stdout",
     "output_type": "stream",
     "text": [
      "Phi_Raw_Output\n",
      "{'pass@1': 6.246719160104987, 'pass@3': 16.420603674540683, 'pass@10': 38.4514435695538}\n",
      "Phi_Refined_Output\n",
      "{'pass@1': 5.118110236220472, 'pass@3': 13.138670166229222, 'pass@10': 30.314960629921263}\n",
      "Text_DaVinci_Refined_Output\n",
      "{'pass@1': 3.556430446194226, 'pass@3': 5.882545931758529, 'pass@10': 9.580052493438322}\n",
      "GPT3.5_Raw_Output\n",
      "{'pass@1': 3.5039370078740153, 'pass@3': 6.207349081364829, 'pass@10': 9.84251968503937}\n",
      "GPT3.5_Refined_Output\n",
      "{'pass@1': 3.188976377952756, 'pass@3': 5.72944006999125, 'pass@10': 9.186351706036746}\n",
      "T5_Raw_Output\n",
      "{'pass@1': 44.02887139107611, 'pass@3': 67.51749781277341, 'pass@10': 84.7769028871391}\n",
      "T5_Refined_Output\n",
      "{'pass@1': 47.80839895013123, 'pass@3': 72.52515310586176, 'pass@10': 87.53280839895014}\n"
     ]
    }
   ],
   "source": [
    "names = [\"Phi_Raw_Output\",\"Phi_Refined_Output\",\"Text_DaVinci_Refined_Output\",\"GPT3.5_Raw_Output\",\"GPT3.5_Refined_Output\", \"T5_Raw_Output\",\"T5_Refined_Output\"]\n",
    "for name in names:\n",
    "    print(name)\n",
    "    outfilename = f'./ReDoSHunter_Results/{name}_full_result.txt'\n",
    "\n",
    "    with open(outfilename, 'r') as f:\n",
    "        result = f.read()\n",
    "    redoshunter_data = parse_rescue(result)\n",
    "\n",
    "    # print(rescue_data[0])\n",
    "\n",
    "\n",
    "    results = defaultdict(list)\n",
    "\n",
    "    for r in redoshunter_data:\n",
    "        results[r['id']].append(r)\n",
    "    \n",
    "\n",
    "    # Calculate pass@k.\n",
    "    total, correct = [], []\n",
    "    for result in results.values():\n",
    "            passed = [r[\"status\"] for r in result]\n",
    "            # print(passed)\n",
    "            total.append(len(passed))\n",
    "            correct.append(sum(passed))\n",
    "    total = np.array(total)\n",
    "    correct = np.array(correct)\n",
    "\n",
    "    ks = [1,3,10]\n",
    "    pass_at_k = {f\"pass@{k}\": (estimate_vul_at_k(total, correct, k).mean())*100\n",
    "                        for k in ks if (total >= k).all()}\n",
    "    print(pass_at_k)"
   ]
  },
  {
   "cell_type": "code",
   "execution_count": 5,
   "metadata": {},
   "outputs": [
    {
     "name": "stdout",
     "output_type": "stream",
     "text": [
      "8\n"
     ]
    }
   ],
   "source": [
    "# find all text files in a folder\n",
    "import glob\n",
    "\n",
    "path = './ReDoSHunter_Results/Text_DaVinci_Raw/'\n",
    "files = [f for f in glob.glob(path + \"**/*.txt\", recursive=True)]\n",
    "filenames = []\n",
    "for file in files:\n",
    "    if \"only\" not in file:\n",
    "        filenames.append(file)\n",
    "print(len(filenames))\n"
   ]
  },
  {
   "cell_type": "code",
   "execution_count": 6,
   "metadata": {},
   "outputs": [
    {
     "name": "stdout",
     "output_type": "stream",
     "text": [
      "./ReDoSHunter_Results/Text_DaVinci_Raw/Text_DaVinci_Raw_Output_4000_redos_s_java_11111_0_2023_09_10_20_40_36.txt\n",
      "./ReDoSHunter_Results/Text_DaVinci_Raw/Text_DaVinci_Raw_Output_1000_redos_s_java_11111_0_2023_09_10_19_26_05.txt\n",
      "./ReDoSHunter_Results/Text_DaVinci_Raw/Text_DaVinci_Raw_Output_2000_redos_s_java_11111_0_2023_09_10_19_31_52.txt\n",
      "./ReDoSHunter_Results/Text_DaVinci_Raw/Text_DaVinci_Raw_Output_0_redos_s_java_11111_0_2023_09_10_19_26_02.txt\n",
      "./ReDoSHunter_Results/Text_DaVinci_Raw/Text_DaVinci_Raw_Output_7000_redos_s_java_11111_0_2023_09_10_20_11_49.txt\n",
      "./ReDoSHunter_Results/Text_DaVinci_Raw/Text_DaVinci_Raw_Output_5000_redos_s_java_11111_0_2023_09_10_19_52_39.txt\n",
      "./ReDoSHunter_Results/Text_DaVinci_Raw/Text_DaVinci_Raw_Output_3000_redos_s_java_11111_0_2023_09_10_19_34_34.txt\n",
      "./ReDoSHunter_Results/Text_DaVinci_Raw/Text_DaVinci_Raw_Output_6000_redos_s_java_11111_0_2023_09_10_20_25_14.txt\n",
      "7620\n"
     ]
    }
   ],
   "source": [
    "redoshunter_data = []\n",
    "for file in filenames:\n",
    "    print(file)\n",
    "    offset = int(file.split(\"_\")[7])\n",
    "    # print(offset)\n",
    "    with open(file, 'r') as f:\n",
    "        result = f.read()\n",
    "    redoshunter_data.extend(parse_rescue(result, offset=offset))\n",
    "\n",
    "    # print(rescue_data[0])\n",
    "print(len(redoshunter_data))"
   ]
  },
  {
   "cell_type": "code",
   "execution_count": 7,
   "metadata": {},
   "outputs": [
    {
     "name": "stdout",
     "output_type": "stream",
     "text": [
      "{'pass@1': 3.63517060367454, 'pass@3': 6.897419072615923, 'pass@10': 11.67979002624672}\n"
     ]
    }
   ],
   "source": [
    "\n",
    "\n",
    "results = defaultdict(list)\n",
    "\n",
    "for r in redoshunter_data:\n",
    "        results[r['id']].append(r)\n",
    "    \n",
    "\n",
    "    # Calculate pass@k.\n",
    "total, correct = [], []\n",
    "for result in results.values():\n",
    "            passed = [r[\"status\"] for r in result]\n",
    "            # print(passed)\n",
    "            total.append(len(passed))\n",
    "            correct.append(sum(passed))\n",
    "total = np.array(total)\n",
    "correct = np.array(correct)\n",
    "\n",
    "ks = [1,3,10]\n",
    "vul_at_k = {f\"pass@{k}\": (estimate_vul_at_k(total, correct, k).mean())*100\n",
    "                        for k in ks if (total >= k).all()}\n",
    "print(vul_at_k)"
   ]
  }
 ],
 "metadata": {
  "kernelspec": {
   "display_name": "Python 3",
   "language": "python",
   "name": "python3"
  },
  "language_info": {
   "codemirror_mode": {
    "name": "ipython",
    "version": 3
   },
   "file_extension": ".py",
   "mimetype": "text/x-python",
   "name": "python",
   "nbconvert_exporter": "python",
   "pygments_lexer": "ipython3",
   "version": "3.9.4"
  },
  "orig_nbformat": 4
 },
 "nbformat": 4,
 "nbformat_minor": 2
}
