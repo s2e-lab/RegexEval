{
 "cells": [
  {
   "cell_type": "code",
   "execution_count": 24,
   "metadata": {},
   "outputs": [],
   "source": [
    "import re\n",
    "import json\n",
    "from timeout_decorator import timeout\n"
   ]
  },
  {
   "cell_type": "code",
   "execution_count": 25,
   "metadata": {},
   "outputs": [
    {
     "data": {
      "text/plain": [
       "3648"
      ]
     },
     "execution_count": 25,
     "metadata": {},
     "output_type": "execute_result"
    }
   ],
   "source": [
    "with open(\"./RegexEval_manual_1.json\") as f:\n",
    "    data = json.load(f)\n",
    "\n",
    "len(data)"
   ]
  },
  {
   "cell_type": "code",
   "execution_count": 26,
   "metadata": {},
   "outputs": [],
   "source": [
    "@timeout(60)\n",
    "def match_expression(expression, text):\n",
    "    try:\n",
    "        return re.search(expression, text) is not None\n",
    "    except Exception as e:\n",
    "        print(e)\n",
    "        return None"
   ]
  },
  {
   "cell_type": "code",
   "execution_count": null,
   "metadata": {},
   "outputs": [],
   "source": [
    "new_data = []\n",
    "for item in data:\n",
    "    if item['expression'].strip() == '' or item['description'].strip() == '' or item['matches'].strip() == '' or item['non_matches'].strip() == '':\n",
    "        continue\n",
    "    \n",
    "    is_valid = True\n",
    "    expression = item['expression'].strip()\n",
    "    description = item['description'].strip()\n",
    "    matches = [x.strip() for x in item['matches'].strip().split('|')]\n",
    "    non_matches = [x.strip() for x in item['non_matches'].strip().split('|')]\n",
    "\n",
    "\n",
    "    for match in matches:\n",
    "        try:\n",
    "            is_match = match_expression(expression, match)\n",
    "        except TimeoutError:\n",
    "            print('TimeoutError: ', expression, match)\n",
    "            is_match = None\n",
    "        if is_match is None or is_match == False:\n",
    "            is_valid = False\n",
    "            break    \n",
    "    for non_match in non_matches:\n",
    "        try:\n",
    "            is_match = match_expression(expression, non_match)\n",
    "        except TimeoutError:\n",
    "            print('TimeoutError: ', expression, match)\n",
    "            is_match = None\n",
    "        if is_match is None or is_match == True:\n",
    "            is_valid = False\n",
    "            break\n",
    "\n",
    "    if is_valid:\n",
    "        new_data.append(item)\n",
    "    else:\n",
    "        print('Invalid: ', expression, description, matches, non_matches)\n"
   ]
  },
  {
   "cell_type": "code",
   "execution_count": 29,
   "metadata": {},
   "outputs": [],
   "source": [
    "with open('RegexEval_Filtered.json', 'w') as f:\n",
    "    json.dump(new_data, f)"
   ]
  }
 ],
 "metadata": {
  "kernelspec": {
   "display_name": "Python 3",
   "language": "python",
   "name": "python3"
  },
  "language_info": {
   "codemirror_mode": {
    "name": "ipython",
    "version": 3
   },
   "file_extension": ".py",
   "mimetype": "text/x-python",
   "name": "python",
   "nbconvert_exporter": "python",
   "pygments_lexer": "ipython3",
   "version": "3.9.4"
  },
  "orig_nbformat": 4
 },
 "nbformat": 4,
 "nbformat_minor": 2
}
