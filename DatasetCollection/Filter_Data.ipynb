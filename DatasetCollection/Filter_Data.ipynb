{
 "cells": [
  {
   "cell_type": "code",
   "execution_count": 6,
   "metadata": {},
   "outputs": [],
   "source": [
    "import re\n",
    "import json\n",
    "from timeout_decorator import timeout\n"
   ]
  },
  {
   "cell_type": "code",
   "execution_count": null,
   "metadata": {},
   "outputs": [],
   "source": [
    "file_name = \"RegexEval_Filtered_Manual\""
   ]
  },
  {
   "cell_type": "code",
   "execution_count": 7,
   "metadata": {},
   "outputs": [
    {
     "data": {
      "text/plain": [
       "1505"
      ]
     },
     "execution_count": 7,
     "metadata": {},
     "output_type": "execute_result"
    }
   ],
   "source": [
    "with open(f\"./Intermediate_Dataset/{file_name}.json\") as f:\n",
    "    data = json.load(f)\n",
    "\n",
    "len(data)"
   ]
  },
  {
   "cell_type": "code",
   "execution_count": 8,
   "metadata": {},
   "outputs": [],
   "source": [
    "@timeout(60)\n",
    "def match_expression(expression, text):\n",
    "    try:\n",
    "        return re.search(expression, text) is not None\n",
    "    except Exception as e:\n",
    "        print(e)\n",
    "        return None"
   ]
  },
  {
   "cell_type": "code",
   "execution_count": 9,
   "metadata": {},
   "outputs": [
    {
     "name": "stdout",
     "output_type": "stream",
     "text": [
      "Invalid:  ^-?([1]?[1-7][1-9]|[1]?[1-8][0]|[1-9]?[0-9])\\.{1}\\d{1,6} Longitude validation (similiar to Latitude Validation) and inspired by the same code ['180.0', '-180.0', '98.092391'] ['181', '180', '-98.0923913']\n"
     ]
    },
    {
     "name": "stderr",
     "output_type": "stream",
     "text": [
      "/var/folders/9d/98myd0lx1rn2j76hx3t96x1r0000gn/T/ipykernel_12898/1341296894.py:4: FutureWarning: Possible nested set at position 5\n",
      "  return re.search(expression, text) is not None\n",
      "/var/folders/9d/98myd0lx1rn2j76hx3t96x1r0000gn/T/ipykernel_12898/1341296894.py:4: FutureWarning: Possible nested set at position 21\n",
      "  return re.search(expression, text) is not None\n",
      "/var/folders/9d/98myd0lx1rn2j76hx3t96x1r0000gn/T/ipykernel_12898/1341296894.py:4: FutureWarning: Possible nested set at position 27\n",
      "  return re.search(expression, text) is not None\n"
     ]
    }
   ],
   "source": [
    "new_data = []\n",
    "for item in data:\n",
    "    if item['expression'].strip() == '' or item['description'].strip() == '' or item['matches'].strip() == '' or item['non_matches'].strip() == '':\n",
    "        continue\n",
    "    \n",
    "    is_valid = True\n",
    "    expression = item['expression'].strip()\n",
    "    description = item['description'].strip()\n",
    "    matches = [x.strip() for x in item['matches'].strip().split('|')]\n",
    "    non_matches = [x.strip() for x in item['non_matches'].strip().split('|')]\n",
    "\n",
    "\n",
    "    for match in matches:\n",
    "        try:\n",
    "            is_match = match_expression(expression, match)\n",
    "        except TimeoutError:\n",
    "            print('TimeoutError: ', expression, match)\n",
    "            is_match = None\n",
    "        if is_match is None or is_match == False:\n",
    "            is_valid = False\n",
    "            break    \n",
    "    for non_match in non_matches:\n",
    "        try:\n",
    "            is_match = match_expression(expression, non_match)\n",
    "        except TimeoutError:\n",
    "            print('TimeoutError: ', expression, match)\n",
    "            is_match = None\n",
    "        if is_match is None or is_match == True:\n",
    "            is_valid = False\n",
    "            break\n",
    "\n",
    "    if is_valid:\n",
    "        new_data.append(item)\n",
    "    else:\n",
    "        print('Invalid: ', expression, description, matches, non_matches)\n"
   ]
  },
  {
   "cell_type": "code",
   "execution_count": 10,
   "metadata": {},
   "outputs": [],
   "source": [
    "with open(f\"./Intermediate_Dataset/{file_name}_Filtered.json\", 'w') as f:\n",
    "    json.dump(new_data, f)"
   ]
  }
 ],
 "metadata": {
  "kernelspec": {
   "display_name": "Python 3",
   "language": "python",
   "name": "python3"
  },
  "language_info": {
   "codemirror_mode": {
    "name": "ipython",
    "version": 3
   },
   "file_extension": ".py",
   "mimetype": "text/x-python",
   "name": "python",
   "nbconvert_exporter": "python",
   "pygments_lexer": "ipython3",
   "version": "3.9.4"
  },
  "orig_nbformat": 4
 },
 "nbformat": 4,
 "nbformat_minor": 2
}
