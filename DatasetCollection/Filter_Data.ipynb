{
 "cells": [
  {
   "cell_type": "code",
   "execution_count": 2,
   "metadata": {},
   "outputs": [],
   "source": [
    "import re\n",
    "import json\n",
    "from timeout_decorator import timeout"
   ]
  },
  {
   "cell_type": "code",
   "execution_count": 3,
   "metadata": {},
   "outputs": [],
   "source": [
    "file_name = \"RegexEval_Filtered_Manual\""
   ]
  },
  {
   "cell_type": "code",
   "execution_count": 4,
   "metadata": {},
   "outputs": [
    {
     "data": {
      "text/plain": [
       "1470"
      ]
     },
     "execution_count": 4,
     "metadata": {},
     "output_type": "execute_result"
    }
   ],
   "source": [
    "with open(f\"./Intermediate_Dataset/{file_name}.json\") as f:\n",
    "    data = json.load(f)\n",
    "\n",
    "len(data)"
   ]
  },
  {
   "cell_type": "code",
   "execution_count": 5,
   "metadata": {},
   "outputs": [],
   "source": [
    "@timeout(60)\n",
    "def match_expression(expression, text):\n",
    "    try:\n",
    "        return re.search(expression, text) is not None\n",
    "    except Exception as e:\n",
    "        print(e)\n",
    "        return None"
   ]
  },
  {
   "cell_type": "code",
   "execution_count": 11,
   "metadata": {},
   "outputs": [
    {
     "name": "stdout",
     "output_type": "stream",
     "text": [
      "Invalid:  ^[a-zA-Z]\\:\\\\.*|^\\\\\\\\.* Useful for determining whether a string constitutes a valid local or UNC path. ['\\\\\\\\mypath\\\\mypath1\\\\myfile.aaa', 'C:\\\\mypath\\\\mypath\\\\mypath', '\\\\\\\\otherpath\\\\otherpath', 'D:\\\\somepath\\\\somefile.file'] ['http://www.mysite.com', '\\\\\\\\\\\\badpath\\\\badpath', 'X::\\\\\\\\badpath']\n",
      "Invalid:  (\\b(1|2|3|4|5|6|7|8|9)?[0-9]\\b) Match the numbers 1 to 99 ['1', '2', '99', '10'] ['100', '200', '500', '0']\n",
      "Invalid:  ^-?[0-9]\\d{0,8}(\\.\\d{1,4}) Numeric with decimal values. Accepts negative and zeros. Upto 9 digits and upto 4 decimals allowed ['123456789.1234', '-123.123', '0.00', '-123456789.1234'] ['1234567890', '0.12345']\n",
      "Invalid:  (-?[1-9]*\\d*[02468])(?=\\D) Match even integers, positive or negative, including zero. ['-100', '-10', '-2', '0', '2', '4', '6', '8', '10', '12', '100', '102'] ['-101', '-99', '-11', '-1', '1', '3', '5', '7', '9', '11', '99', '101']\n",
      "Invalid:  href(\\s*)=(\\s*)('|\")http:\\/\\/(.*)((\"|')) The pulls the HTML link URLs. ['href=\"http://yahoo.com\"', 'href=\"google.com\"'] ['src=\"http://domain.com/img.jpg\"', 'href=\"tel:1234567897\"\"']\n",
      "Invalid:  (http:\\/\\/|www\\.).+?(?=\\s|[[:punct:]]\\s) Matches the instances I need. Needs to start with http:// or www. ['http://www.website.com', 'http://www.website.com.br', 'www.website.com', 'www.website.com.br'] ['website.com', 'website.net', 'website.com.br']\n",
      "Invalid:  ^(([a-zA-Z0-9_\\-\\.]+)@([a-zA-Z0-9_\\-\\.]+)\\.([a-zA-Z]{2,5}){1,25})+(\\s*[;.]\\s*(([a-zA-Z0-9_\\-\\.]+)@([a-zA-Z0-9_\\-\\.]+)\\.([a-zA-Z]{2,5}){1,25})+)*$ This is a minor change to the Regex found at http://regexlib.com/RETester.aspx?regexp_id=1007 to allow for spaces around the delimiters. ['info@domain.com', 'contact@domain.com'] ['info@domain.com', 'contact@domain.com']\n"
     ]
    },
    {
     "name": "stderr",
     "output_type": "stream",
     "text": [
      "/var/folders/9d/98myd0lx1rn2j76hx3t96x1r0000gn/T/ipykernel_17045/1341296894.py:4: FutureWarning: Possible nested set at position 5\n",
      "  return re.search(expression, text) is not None\n",
      "/var/folders/9d/98myd0lx1rn2j76hx3t96x1r0000gn/T/ipykernel_17045/1341296894.py:4: FutureWarning: Possible nested set at position 21\n",
      "  return re.search(expression, text) is not None\n",
      "/var/folders/9d/98myd0lx1rn2j76hx3t96x1r0000gn/T/ipykernel_17045/1341296894.py:4: FutureWarning: Possible nested set at position 27\n",
      "  return re.search(expression, text) is not None\n"
     ]
    }
   ],
   "source": [
    "new_data = []\n",
    "for item in data:\n",
    "    if item['expression'].strip() == '' or item['description'].strip() == '' or item['matches'].strip() == '' or item['non_matches'].strip() == '':\n",
    "        continue\n",
    "    \n",
    "    is_valid = True\n",
    "    expression = item['expression'].strip()\n",
    "    description = item['description'].strip()\n",
    "    matches = [x.strip() for x in item['matches'].strip().split('|')]\n",
    "    non_matches = [x.strip() for x in item['non_matches'].strip().split('|')]\n",
    "\n",
    "\n",
    "    for match in matches:\n",
    "        try:\n",
    "            is_match = match_expression(expression, match)\n",
    "        except TimeoutError:\n",
    "            print('TimeoutError: ', expression, match)\n",
    "            is_match = None\n",
    "        if is_match is None or is_match == False:\n",
    "            is_valid = False\n",
    "            break    \n",
    "    for non_match in non_matches:\n",
    "        try:\n",
    "            is_match = match_expression(expression, non_match)\n",
    "        except TimeoutError:\n",
    "            print('TimeoutError: ', expression, match)\n",
    "            is_match = None\n",
    "        if is_match is None or is_match == True:\n",
    "            is_valid = False\n",
    "            break\n",
    "\n",
    "    if is_valid:\n",
    "        new_data.append(item)\n",
    "    else:\n",
    "        print('Invalid: ', expression, description, matches, non_matches)\n"
   ]
  },
  {
   "cell_type": "code",
   "execution_count": 12,
   "metadata": {},
   "outputs": [],
   "source": [
    "with open(f\"./Intermediate_Dataset/{file_name}_Filtered.json\", 'w') as f:\n",
    "    json.dump(new_data, f)"
   ]
  }
 ],
 "metadata": {
  "kernelspec": {
   "display_name": "Python 3",
   "language": "python",
   "name": "python3"
  },
  "language_info": {
   "codemirror_mode": {
    "name": "ipython",
    "version": 3
   },
   "file_extension": ".py",
   "mimetype": "text/x-python",
   "name": "python",
   "nbconvert_exporter": "python",
   "pygments_lexer": "ipython3",
   "version": "3.9.4"
  },
  "orig_nbformat": 4
 },
 "nbformat": 4,
 "nbformat_minor": 2
}
