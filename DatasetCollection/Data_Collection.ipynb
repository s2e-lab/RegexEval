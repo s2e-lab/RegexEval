{
 "cells": [
  {
   "cell_type": "code",
   "execution_count": 9,
   "metadata": {},
   "outputs": [],
   "source": [
    "from bs4 import BeautifulSoup\n",
    "from selenium import webdriver\n",
    "\n",
    "\n",
    "def get_table_data(table_data, tables):\n",
    "\n",
    "    for table in tables:\n",
    "        table_html = table.get_attribute(\"outerHTML\")\n",
    "        soup = BeautifulSoup(table_html, \"html.parser\")\n",
    "        expression_data = {}\n",
    "\n",
    "        # Extract expression, description, matches, and non-matches\n",
    "        expression_data['id'] = len(table_data) + 1 \n",
    "        details_link = soup.find('a', class_='buttonSmall', href=True)\n",
    "        if details_link:\n",
    "            expression_data['details_link'] = \"https://regexlib.com/\"+details_link['href'].replace('RETester.aspx', 'REDetails.aspx')\n",
    "        expression_data['expression'] = soup.find('tr', class_='expression').find('div', class_='expressionDiv').text.strip()\n",
    "        expression_data['description'] = soup.find('tr', class_='description').find('div', class_='overflowFixDiv').text.strip()\n",
    "        expression_data['matches'] = soup.find('tr', class_='matches').find('div', class_='overflowFixDiv').text.strip()\n",
    "        expression_data['non_matches'] = soup.find('tr', class_='nonmatches').find('div', class_='overflowFixDiv').text.strip()\n",
    "\n",
    "        # Append data to the list\n",
    "        table_data.append(expression_data)\n",
    "\n",
    "    return table_data"
   ]
  },
  {
   "cell_type": "code",
   "execution_count": 10,
   "metadata": {},
   "outputs": [
    {
     "name": "stdout",
     "output_type": "stream",
     "text": [
      "100\n",
      "{'id': 100, 'details_link': 'https://regexlib.com/REDetails.aspx?regexp_id=109', 'expression': '^(0[1-9]|1[0-2])\\\\/((0[1-9]|2\\\\d)|3[0-1])\\\\/(19\\\\d\\\\d|200[0-3])$', 'description': 'This expression is an attempt to match the most obvious features of a valid date in American/US format of the form mm/dd/yyyy for any year 1900 through 2003. It can easily be adapted for different date ranges. It matches any date where the day part is any number 01-31, the month part is any number 01-12, and the year part is any number 1900-2003. The only invalid dates that it matches are ones where the day part may be in the range 01-31 but that range might not be valid for the specified month. An example of an invalid date that it would allow to pass through would be 11/31/2002. This date is invalid because 11/31 of any year does not exist, but this expression would allow it pass through since the day part is in the range 01-31.\\nThis regular expression has been used successfully in ASP with VBScript using the windows scripting library RegExp object.', 'matches': '12/31/2003 | 01/01/1900 | 11/31/2002', 'non_matches': '1/1/2002 | 01/01/02 | 01/01/2004'}\n",
      "200\n",
      "{'id': 200, 'details_link': 'https://regexlib.com/REDetails.aspx?regexp_id=226', 'expression': '(((0[1-9]|[12][0-9]|3[01])([-./])(0[13578]|10|12)([-./])(\\\\d{4}))|(([0][1-9]|[12][0-9]|30)([-./])(0[469]|11)([-./])(\\\\d{4}))|((0[1-9]|1[0-9]|2[0-8])([-./])(02)([-./])(\\\\d{4}))|((29)(\\\\.|-|\\\\/)(02)([-./])([02468][048]00))|((29)([-./])(02)([-./])([13579][26]00))|((29)([-./])(02)([-./])([0-9][0-9][0][48]))|((29)([-./])(02)([-./])([0-9][0-9][2468][048]))|((29)([-./])(02)([-./])([0-9][0-9][13579][26])))', 'description': 'Jason West (jason.west@mail.state.ky.us) date validator with leap years using a strict dd/mm/yyyy (ITALIAN) format', 'matches': '29/02/2000 | 31/01/2000 | 30-01-2000', 'non_matches': '29/02/2002 | 32/01/2002 | 10/2/2002'}\n",
      "300\n",
      "{'id': 300, 'details_link': 'https://regexlib.com/REDetails.aspx?regexp_id=341', 'expression': '^((\\\\d?)|(([-+]?\\\\d+\\\\.?\\\\d*)|([-+]?\\\\d*\\\\.?\\\\d+))|(([-+]?\\\\d+\\\\.?\\\\d*\\\\,\\\\ ?)*([-+]?\\\\d+\\\\.?\\\\d*))|(([-+]?\\\\d*\\\\.?\\\\d+\\\\,\\\\ ?)*([-+]?\\\\d*\\\\.?\\\\d+))|(([-+]?\\\\d+\\\\.?\\\\d*\\\\,\\\\ ?)*([-+]?\\\\d*\\\\.?\\\\d+))|(([-+]?\\\\d*\\\\.?\\\\d+\\\\,\\\\ ?)*([-+]?\\\\d+\\\\.?\\\\d*)))$', 'description': 'This allows a sequence of real numbers to be added, separated by a comma (required) and a space (optional). Based pretty heavily on an expression by Steven Smith on this site.', 'matches': '8.0 | 8.0,-.38,+8.9 | 8.0, +8.8, 0.09', 'non_matches': '+ | . | a,b, c'}\n",
      "400\n",
      "{'id': 400, 'details_link': 'https://regexlib.com/REDetails.aspx?regexp_id=464', 'expression': '<([^\\\\s>]*)(\\\\s[^<]*)>', 'description': 'grab all tags attributes...\\n&lt;img src=&quot;truc&quot;&gt; returns :\\n&lt;\\n(1:img)\\n(2: src=&quot;truc&quot;)\\n&gt;\\ni use it to clean html pages to grab infos...\\nuse a RegEx Replace with &quot;&lt;$1&gt;&quot; to keep only tags codes...', 'matches': '<img src=\"truc\"> | <body background=\\'...\\'> | <p align=\\'left\\'>', 'non_matches': '<br> | </body> | <p>'}\n",
      "500\n",
      "{'id': 500, 'details_link': 'https://regexlib.com/REDetails.aspx?regexp_id=578', 'expression': '((([0][1-9]|[12][\\\\d])|[3][01])[-/]([0][13578]|[1][02])[-/][1-9]\\\\d\\\\d\\\\d)|((([0][1-9]|[12][\\\\d])|[3][0])[-/]([0][13456789]|[1][012])[-/][1-9]\\\\d\\\\d\\\\d)|(([0][1-9]|[12][\\\\d])[-/][0][2][-/][1-9]\\\\d([02468][048]|[13579][26]))|(([0][1-9]|[12][0-8])[-/][0][2][-/][1-9]\\\\d\\\\d\\\\d)', 'description': 'Date validation in the dd/mm/yyyy format for years 1000+ (i.e 999 or 0999 not matching) and taking february leap years into account.', 'matches': '12/12/2003 | 29-02-2004 | 31-03-1980', 'non_matches': '29/02/2003 | 31-04-2002 | 10-10-0999'}\n",
      "600\n",
      "{'id': 600, 'details_link': 'https://regexlib.com/REDetails.aspx?regexp_id=682', 'expression': '((\\\\(\\\\d{3}\\\\) ?)|(\\\\d{3}[- \\\\.]))?\\\\d{3}[- \\\\.]\\\\d{4}(\\\\s(x\\\\d+)?){0,1}$', 'description': 'This will match US most common telephones format with extension or with out extension. Works with both Java and .NET.', 'matches': '(123) 456-7890 | (123) 456-7890 x123', 'non_matches': '(123) 456-7890 x123x | (123) 456-7890 x123 x123 | (123) 456-7890 x'}\n",
      "700\n",
      "{'id': 700, 'details_link': 'https://regexlib.com/REDetails.aspx?regexp_id=793', 'expression': '&lt;!--[\\\\s\\\\S]*?--[ \\\\t\\\\n\\\\r]*&gt;', 'description': 'As I could understand the HTML standard, this is the valid reg.exp. for comments.\\nThe only differenc from the last one is that the comment can be terminated by two minuses followed by none OR SOME space caracters and then by character &gt;', 'matches': '&lt;!-- anything -- &gt; | &lt;!-- anything -&gt; -&gt; --&gt;', 'non_matches': '&lt;!-- something -- and more &gt;'}\n",
      "800\n",
      "{'id': 800, 'details_link': 'https://regexlib.com/REDetails.aspx?regexp_id=907', 'expression': \"urn:[a-z0-9]{1}[a-z0-9\\\\-]{1,31}:[a-z0-9_,:=@;!'%/#\\\\(\\\\)\\\\+\\\\-\\\\.\\\\$\\\\*\\\\?]+\", 'description': 'Matches canonical Uniform Resource Names (URNs) as defined in RFC 2141.', 'matches': 'urn:vrml:umel:/some/dir/file.ext | urn:schemas-microsoft-com:xml-data | URN:foo:a123,456', 'non_matches': 'urn:11111.345:12 | http://www.example.org/ | urn:a#-12:555'}\n",
      "900\n",
      "{'id': 900, 'details_link': 'https://regexlib.com/REDetails.aspx?regexp_id=1018', 'expression': '\\\\{CHBLOCK\\\\:(.*?\\\\})', 'description': \"Litle regexp for my portal engie. Only cut the {CHBLOCK:'modulename'} item\", 'matches': '{CHBLOCK:sdgs} | {CHBLOCK:sdgs}sdg{CHBLOCK:sdgs}', 'non_matches': '{CHBLOCK} | {CHBLOCK:sdgs'}\n",
      "1000\n",
      "{'id': 1000, 'details_link': 'https://regexlib.com/REDetails.aspx?regexp_id=1136', 'expression': '^[0-9,+,(), ,]{1,}(,[0-9]+){0,}$', 'description': 'It could be used to validate local as well as International Phone nos where the number my be preceeding by + sign for(00) and may have brackets to accept the city code like (22).It will also accept space in between like 001 116 23314', 'matches': '0091(22) 31544 | +1 (116) 23314 | +91(22)311545', 'non_matches': '91 (22) abc21 | +91 (abc) 23321 | 00111623314abc'}\n",
      "1100\n",
      "{'id': 1100, 'details_link': 'https://regexlib.com/REDetails.aspx?regexp_id=1243', 'expression': '[\\\\u0410-\\\\u042F\\\\u0430-\\\\u044F]+', 'description': 'Maches small and big cyrillic letters. Using Unicode codes.', 'matches': '????????', 'non_matches': 'All other characters'}\n",
      "1200\n",
      "{'id': 1200, 'details_link': 'https://regexlib.com/REDetails.aspx?regexp_id=1373', 'expression': '^((?-i)A[cglmrstu]|B[aehikr]?|C[adeflmorsu]?|D[bsy]|E[rsu]|F[emf]?|G[ade]|H[efgos]?|I[nk]?|Kr?|L[airu]|M[dgnot]|N[abdeiop]|Os?|P[abdmortu]?|R[abefghnu]|S[bcegimnr]?|T[abcehil]|U(u[bhopqst])?|V|W|Xe|Yb?|Z[nr])$', 'description': 'Chemical elements of the periodic table from 1 to 118.', 'matches': 'Hg', 'non_matches': 'HE'}\n",
      "1300\n",
      "{'id': 1300, 'details_link': 'https://regexlib.com/REDetails.aspx?regexp_id=1496', 'expression': '<script.*/*>|</script>|<[a-zA-Z][^>]*=[\\'\"]+javascript:\\\\w+.*[\\'\"]+>|<\\\\w+[^>]*\\\\son\\\\w+=.*[ /]*>', 'description': 'Matches any opening or closing script tags, inline javascript: tags, inline on<function> (ex: onClick) tags.\\nMATCHES:\\n<a href=\"javascript:alert(\\'test0\\');\">\\n<a href=\\'javascript:alert(\"test1\");\\'>\\n<a href=\"#\" onClick=\"alert(\\'test2\\');\" />\\n<script language=\"javascript\" src=\"somewhere.js\">\\n<script language=\"javascript\" src=\"somewhere.js\" />\\n<script>\\n</script>', 'matches': '<a href=\"javascript:alert(\\'test0\\');\"> or <a href=\"#\" onClick=\"alert(\\'test\\');\" /> etc...', 'non_matches': 'This should not appear because in javascript: you can use the < operator or the > operator.'}\n",
      "1400\n",
      "{'id': 1400, 'details_link': 'https://regexlib.com/REDetails.aspx?regexp_id=1609', 'expression': '\\\\w*$', 'description': 'Finds the last word in a string eg. the user in \\\\\\\\domain\\\\user or the extension/file type in a file name.', 'matches': '\\\\\\\\domain\\\\user', 'non_matches': 'I want lots of $$'}\n",
      "1500\n",
      "{'id': 1500, 'details_link': 'https://regexlib.com/REDetails.aspx?regexp_id=1746', 'expression': '^([-+]?(\\\\d+\\\\.?\\\\d*|\\\\d*\\\\.?\\\\d+)([Ee][-+]?[0-2]?\\\\d{1,2})?)$', 'description': \"DESCRIPTION\\nParses a floating number with an optional exponent from an input string. Please remove all spaces from the input string before using this regex pattern.\\nMATCHING EXAMPLES\\nThe following symbols are used:\\n'[]' means an optional parameter;\\n'|' means OR;\\n'+' means the positive sign;\\n'-' means the negative sign;\\n'#' means one or more numbers (0...9);\\n'.' is the decimal seperator;\\n'E|e' are the valid exponent symbols;\\n'...' is the range of values for the exponent.\", 'matches': '[+|-]#[.[#]]|[#].#[E|e[+|-]0...299]', 'non_matches': '[+|-][.][E|e[+|-][0...299]] -OR- [+|-]#[.[#]]|[#].#E|e[+|-]300...∞ -OR- any string with more than one sign on mantissa or on exponent -OR- any string with non-leading signs on mantissa or exponent -OR- any string with more than one decimal seperator on mantissa | any string with one or more decimal seperators on exponent'}\n",
      "1600\n",
      "{'id': 1600, 'details_link': 'https://regexlib.com/REDetails.aspx?regexp_id=1857', 'expression': '^\\\\${1}[a-z]{1}[a-z\\\\d]{0,6}$', 'description': 'NonStop or Guardian OS process or disk volume name. Must start with a \"$\" and have an initial letter character with up to six more alpha numberic characters', 'matches': '$System', 'non_matches': 'system'}\n",
      "1700\n",
      "{'id': 1700, 'details_link': 'https://regexlib.com/REDetails.aspx?regexp_id=1974', 'expression': \"(([01][0-7]|[00][0-9])[0-9]|[1][8][0])°' '[0-9][0-9]\\\\.[0-9]´' '[EW]\", 'description': 'Marine Longitude', 'matches': '002° 09.4´ E', 'non_matches': '2.094° E'}\n",
      "1800\n",
      "{'id': 1800, 'details_link': 'https://regexlib.com/REDetails.aspx?regexp_id=2090', 'expression': '^(\\\\d{5}(?:\\\\-\\\\d{4})?)$', 'description': 'Just for US zip codes. Very simple but effective regex for verifying a number that resembles a zip code. The post office number is optional.', 'matches': '12345 | 12345-6789', 'non_matches': '1234 | 123456 | 12345-123 | 12345-12345'}\n",
      "1900\n",
      "{'id': 1900, 'details_link': 'https://regexlib.com/REDetails.aspx?regexp_id=2197', 'expression': '\\\\b(((J(ANUARY|UNE|ULY))|FEBRUARY|MARCH|(A(PRIL|UGUST))|MAY|(SEPT|NOV|DEC)EMBER|OCTOBER))\\\\s*(0?[1-9]|1[0-9]|2[0-9]|3[0-1])\\\\s*(\\\\,)\\\\s*(0[0-9])\\\\b', 'description': 'VALIDATE THE DATE FORMAT FULL MONTH DAY, YY i.e August 30, 06 (2006)', 'matches': 'JANUARY 26, 07 | MARCH 1, 01 | DECEMBER 31, 05', 'non_matches': 'JAN 26, 01 | JULY 31 05 | AUGUST 01, 2008'}\n",
      "2000\n",
      "{'id': 2000, 'details_link': 'https://regexlib.com/REDetails.aspx?regexp_id=2324', 'expression': '^100(\\\\.0{0,2})? *%?$|^\\\\d{1,2}(\\\\.\\\\d{1,2})? *%?$', 'description': 'Match any percentage entered between 0.00 and 100.00%, includes up to 2 decimal places. Percent sign is optional', 'matches': '100% 100.00 % 95.4% 1.2 % 12', 'non_matches': '100.01% 120% -1.2% 95.445% 12%%'}\n",
      "2100\n",
      "{'id': 2100, 'details_link': 'https://regexlib.com/REDetails.aspx?regexp_id=2446', 'expression': '\"\\\\\\\\d{1,3}\\\\\\\\.\\\\\\\\d{1,3}\\\\\\\\.\\\\\\\\d{1,3}\\\\\\\\.\\\\\\\\d{1,3}\"', 'description': 'this is regular expression for version number upto 3 digits', 'matches': '111.222.333.444', 'non_matches': 'characters'}\n",
      "2200\n",
      "{'id': 2200, 'details_link': 'https://regexlib.com/REDetails.aspx?regexp_id=2558', 'expression': \"^((([!#$%&'*+\\\\-/=?^_`{|}~\\\\w])|([!#$%&'*+\\\\-/=?^_`{|}~\\\\w][!#$%&'*+\\\\-/=?^_`{|}~\\\\.\\\\w]{0,}[!#$%&'*+\\\\-/=?^_`{|}~\\\\w]))[@]\\\\w+([-.]\\\\w+)*\\\\.\\\\w+([-.]\\\\w+)*)$\", 'description': 'According to RFC 2821 (<see cref=\"http://tools.ietf.org/html/2821\"/>)\\nand RFC 2822 (<see cref=\"http://tools.ietf.org/html/2822\"/>), the local-part\\nof an email addresses may use any of these ASCII characters:\\n1. Uppercase and lowercare letters\\n2. The digits 0 through 9\\n3. The characters, !#$%&\\'*+-/=?^_`{|}~\\n4. The character \".\" provided that it is not the first or last character in the local-part.', 'matches': 'a&d@somedomain.com, a*d@somedomain.com,a/d@somedomain.com,', 'non_matches': '.abc@somedomain.com, abc.@somedomain.com, a>b@somedomain.com'}\n",
      "2300\n",
      "{'id': 2300, 'details_link': 'https://regexlib.com/REDetails.aspx?regexp_id=2663', 'expression': '[a-zà-ïò-öù-ü]+$', 'description': 'This will match all LOWERCASE French Characters encoded in !!!UTF-8 ONLY!!!\\nAdd /i to ignore lowercase and match all chars', 'matches': 'éàïìôç', 'non_matches': 'ÇÀÈ'}\n",
      "2400\n",
      "{'id': 2400, 'details_link': 'https://regexlib.com/REDetails.aspx?regexp_id=2778', 'expression': '^[SFTG]\\\\d{7}[A-Z]$', 'description': 'The National Registry Identification Number (NRIC) of Singapore is made up of the first character being a S/F/T or G. The next 2 numbers is the year of birth for people born 1967 and later. The last character is a checksum done on the numbers, and the algorithm will not be released.', 'matches': 'S9912345A | T1234567V | F0094839P', 'non_matches': 'K4928940829F | T1234567 | M1234567C'}\n",
      "2500\n",
      "{'id': 2500, 'details_link': 'https://regexlib.com/REDetails.aspx?regexp_id=2888', 'expression': '^(?:(?:\\\\.\\\\./)|/)?(?:\\\\w(?:[\\\\w`~!$=;\\\\-\\\\+\\\\.\\\\^\\\\(\\\\)\\\\|\\\\{\\\\}\\\\[\\\\]]|(?:%\\\\d\\\\d))*\\\\w?)?(?:/\\\\w(?:[\\\\w`~!$=;\\\\-\\\\+\\\\.\\\\^\\\\(\\\\)\\\\|\\\\{\\\\}\\\\[\\\\]]|(?:%\\\\d\\\\d))*\\\\w?)*(?:\\\\?[^#]+)?(?:#[a-z0-9]\\\\w*)?$', 'description': 'parse/match url path with:\\n1. optional relative path\\n2. optional query string\\n3. optional fragments', 'matches': '..//test/tesf | /cgi-bin/version.pl?r=fhjkjh%20ds&djj=fffsd#kit | index.html | /?q=test', 'non_matches': '.path./index.html | about:blank | ..///test/tesf'}\n",
      "2600\n",
      "{'id': 2600, 'details_link': 'https://regexlib.com/REDetails.aspx?regexp_id=3008', 'expression': '(^(\\\\d|,)*\\\\.?\\\\d*[1-9]+\\\\d*$)|(^[1-9]+(\\\\d|,)*\\\\.\\\\d*$)|(^[1-9]+(\\\\d|,)*\\\\d*$)', 'description': 'This expression will match all positive numbers that contain decimals and commas.', 'matches': '2,000.00, 2,000, .0020, 100, 100.00', 'non_matches': '0, 0.00, -100.00, -0, -2000.00'}\n",
      "2700\n",
      "{'id': 2700, 'details_link': 'https://regexlib.com/REDetails.aspx?regexp_id=3121', 'expression': '^([A-Za-z]{6}[0-9lmnpqrstuvLMNPQRSTUV]{2}[abcdehlmprstABCDEHLMPRST]{1}[0-9lmnpqrstuvLMNPQRSTUV]{2}[A-Za-z]{1}[0-9lmnpqrstuvLMNPQRSTUV]{3}[A-Za-z]{1})|([0-9]{11})$', 'description': 'Pattern to verify Codice Fiscale Italiano (TIN, Tax Identification Number).\\nInclude verification of Codice Fiscale to natural, artificial, legal and juristic person, with and without OMOCODIA (verifica del codice fiscale per persone fisiche e persone giuridiche, anche in caso di omocodia).\\nCodice Fiscale, CF, omocodia, persone fisiche, persone giuridiche, italian fiscal code, TIN, Tax Identification Number.', 'matches': 'VRDGPP13R10B293P | VRDGPP13R10B29PP | 12345678901', 'non_matches': 'VRDGPP13R10B293 | VRDGPP13R10B29BP | 1234567890'}\n",
      "2800\n",
      "{'id': 2800, 'details_link': 'https://regexlib.com/REDetails.aspx?regexp_id=3231', 'expression': '(?=.*\\\\d)(?=.*[a-z])(?=.*[A-Z])^[\\\\w!@$#.+-]{8,64}$', 'description': '8 to 64 characters. Spaces not allowed. Require at least one UPPER, one lower and one number. Then limit the input to a-z A-Z 0-9 _-+.$ # @ and !', 'matches': 'LongEr1 !1LongeR ++++Aa1+++', 'non_matches': 'sHort! all-lower allLetters'}\n",
      "2900\n",
      "{'id': 2900, 'details_link': 'https://regexlib.com/REDetails.aspx?regexp_id=3356', 'expression': '^[A-PR-UWYZ]([0-9]([A-HJKSTUW]|[0-9])?|[A-HK-Y][0-9]([ABEHMNPRVWXY]|[0-9])) [0-9][ABD-HJLNP-UW-Z]{2}|GIR 0AA$', 'description': 'Validates all UK Postcodes based on format given at cabinetoffice.uk.gov. Must be in uppercase before validation.', 'matches': 'A4 7BD | C45 9NZ | AB90 5FG | GIR 0AA', 'non_matches': 'A47BD | 34 6GJ | AN5P 3XY'}\n",
      "3000\n",
      "{'id': 3000, 'details_link': 'https://regexlib.com/REDetails.aspx?regexp_id=3503', 'expression': '(?:(?:(?<=[\\\\s^,(])\\\\*(?=\\\\S)(?!_)(?<bold>.+?)(?<!_)(?<=\\\\S)\\\\*(?=[\\\\s$,.?!]))|(?:(?<=[\\\\s^,(])_(?=\\\\S)(?!\\\\*)(?<underline>.+?)(?<!\\\\*)(?<=\\\\S)_(?=[\\\\s$,.?!]))|(?:(?<=[\\\\s^,(])(?:\\\\*_|_\\\\*)(?=\\\\S)(?<boldunderline>.+?)(?<=\\\\S)(?:\\\\*_|_\\\\*)(?=[\\\\s$,.?!])))', 'description': 'Finds all *bolded* _underlined_ or *_bolded and underlined_* bits of text in a string.', 'matches': '*bold* | _underline_ | *_bold and underline_*', 'non_matches': '* bullets will not match | 2 * 2 multiplication | * must not have spaces around marked down text *'}\n",
      "3100\n",
      "{'id': 3100, 'details_link': 'https://regexlib.com/REDetails.aspx?regexp_id=3674', 'expression': '^([A-Z]{0,3}?[0-9]{9}($[0-9]{0}|[A-Z]{1}))', 'description': 'Medicare number validation:XXXYYYYYYYYYZBBXXX- can be up to 3 letters. Not requiredYYY- 9 digits – requiredZ- must be letter. No number. Not requiredBB- can be letter or numbers. Not required. Can only exist if Z is exists.', 'matches': 'ABC123456789A12', 'non_matches': 'CA1234567885'}\n",
      "3200\n",
      "{'id': 3200, 'details_link': 'https://regexlib.com/REDetails.aspx?regexp_id=3824', 'expression': '^(?=.*\\\\d)(?=.*[a-z])(?=.*[A-Z])(?=.*\\\\W)(?!.*\\\\s).{8,}$', 'description': 'Password expresion that requires one lower case letter, one upper case letter, one digit, one non-word character, 8>= length and no spaces.', 'matches': 'aA@1aaaa | aA@1aaaaasfljs;lkfe', 'non_matches': 'aA@1a aaa | aA1aaaaaaaa | 12345678'}\n",
      "3300\n",
      "{'id': 3300, 'details_link': 'https://regexlib.com/REDetails.aspx?regexp_id=3968', 'expression': '^(([a-zA-Z]:)|((\\\\\\\\|/){1,2}\\\\w+)\\\\$?)((\\\\\\\\|/)(\\\\w[\\\\w ]*.*))+\\\\.([a-zA-Z0-9]+)$', 'description': 'Matches file paths to any valid format. Matches both \"\\\\\" and \"/\" as valid separators in file path. Extension (\"[a-zA-Z0-9]+\") can be changed to any specific extension like (txt|jpg|png) and so on.Does NOT match relative file paths.\\nFeel free to write any comments about bugs or anything, since this is my first contribution to regexlib', 'matches': '/asdjd/jhsdh.ajsd | E:\\\\drive.txt | \\\\\\\\usr\\\\home\\\\docs.jpg | \\\\users\\\\assassin\\\\home/yp.r15', 'non_matches': '//home/boo/ | foo/bar.bmp'}\n",
      "3400\n",
      "{'id': 3400, 'details_link': 'https://regexlib.com/REDetails.aspx?regexp_id=5136', 'expression': '\"(?\\\\d{5})(-(?[a-zA-Z0-9])(-)\"', 'description': 'ex.Message \"parsing \"(?\\\\d{5})(-(?[a-zA-Z0-9])(-)\" - Unrecognized grouping construct.\" String', 'matches': '20063-a12 345Store No-', 'non_matches': '2006s3-a12 345Store No-'}\n",
      "3500\n",
      "{'id': 3500, 'details_link': 'https://regexlib.com/REDetails.aspx?regexp_id=5349', 'expression': '^(?=.*[0-9])(?=.*[a-zA-Z])(\\\\w|[~!$&+,:;=?\\\\[\\\\]@#_|<>{}()^%*\\\\.\\\\-\\\\+]){5,15}', 'description': 'This Regex accepts AlphaNumeric and specialcharacters.\\nIt contain atleast one character, one alphabet. It may or maynot contain special character(Almost covered may special characters in this).', 'matches': 'Asdf!1234, 123@asdf, @A!@#$1', 'non_matches': 'Asdfqwer!, 123456, 1234a'}\n",
      "3600\n",
      "{'id': 3600, 'details_link': 'https://regexlib.com/REDetails.aspx?regexp_id=13220', 'expression': 'gdfgfd', 'description': \"Pure Nitro Max Stability balls are universally used for core design. Balancing your body while on the ball as do standard exercises like sit-ups, crunches, and planks focuses the anxiety of the movement for your core Muscle Building Review tissues.\\nYou see, hip width (not counting fat deposits in the area) is primarily depending on your pelvis size. In the event you genetically narrow hip bones (you can thank your mother and father for that!), it's going to be much tougher to access the wider hips you're looking for but might possibly done!\\nhttps://mylaviveeyeserum.com/pure-nitro-max-with-pure-testo-blast/\", 'matches': 'ytyty', 'non_matches': 'rtyt'}\n",
      "3700\n",
      "{'id': 3700, 'details_link': 'https://regexlib.com/REDetails.aspx?regexp_id=15177', 'expression': 'swadcef', 'description': \"Warrior Jatt mp3 song download We're very excited to tour with Arin and hope all of you will give him the warm welcome to the family we have. After the debut edition of the festival missed Detroit, 2011 brought the debut of the festival to Detroit as Avenged Sevenfold and Three Days Grace brought a packed house to DTE Energy Music Theater. There are well-known quotations and citations Everywhere I Go Mp3 Download Lucas Scott. One wonders if someone passes by way of a happy long-term relationship.\\nhttps://snaptube.zone/warrior-jatt-gagan-kokri-mp3-song-download/\", 'matches': 'regtr', 'non_matches': 'hgrthty'}\n",
      "3800\n",
      "{'id': 3800, 'details_link': 'https://regexlib.com/REDetails.aspx?regexp_id=19674', 'expression': '([0-8]?\\\\d(°|\\\\s)[0-5]?\\\\d(\\'|\\\\s)[0-5]?\\\\d(\\\\.\\\\d{1,6})?\"?|90(°|\\\\s)0?0(\\'|\\\\s)0?0\"?)\\\\s{0,}[NnSs]\\\\s{1,}([0-1]?[0-7]?\\\\d(°|\\\\s)[0-5]?\\\\d(\\'|\\\\s)[0-5]?\\\\d(\\\\.\\\\d{1,6})?\"?|180(°|\\\\s)0?0(\\'|\\\\s)0?0\"?)\\\\s{0,}[EeOoWw]', 'description': 'Validate lat/lon coordinates', 'matches': '45°23\\'36.0\" N 10°33\\'48.0\" E or 45°23\\'36.123456\"N 010°33\\'48\"E', 'non_matches': '45°23\\'36.\" N 10°33\\'48.0\" E or 45°23\\'36.1234567\"N 010°33\\'48\"E'}\n",
      "3900\n",
      "{'id': 3900, 'details_link': 'https://regexlib.com/REDetails.aspx?regexp_id=25944', 'expression': 'AllAssignmenthelp.com\\xa0reviews', 'description': 'Welcome to the review of AllAssignmenthelp\\xa0reviews, a writing service in Britain aimed at USA students. AllAssignmenthelp.com\\xa0reviews is best reviews website in US and Australia.', 'matches': 'All Assignment help reviews', 'non_matches': 'All Assignment help reviews'}\n",
      "4000\n",
      "{'id': 4000, 'details_link': 'https://regexlib.com/REDetails.aspx?regexp_id=31310', 'expression': 'Windows Server', 'description': 'Get the window server 2016 datacentre from the digit shopper it enhances security and reduces risk with multiple layers of built-in protection. It is a cloud-ready operating system. This windows server 2016 Increase availability and reduce resource usage with Nano Server. Get the windows server at a very reasonable rate. You may download and can use it for the experimental learning and academic lab purpose', 'matches': 'Windows Server 2016 Datacenter', 'non_matches': 'Non-Tech'}\n",
      "4100\n",
      "{'id': 4100, 'details_link': 'https://regexlib.com/REDetails.aspx?regexp_id=34618', 'expression': 'Talentedge', 'description': 'If you are interested in Financial Management Course, come to TalentEdge. It provides you with the best source to join the best finance Management institute. To know more, visit here: https://talentedge.com/blog/importance-finance-management-training-courses/', 'matches': 'Finance Courses', 'non_matches': 'Finance Courses'}\n",
      "4128\n",
      "{'id': 4128, 'details_link': 'https://regexlib.com/REDetails.aspx?regexp_id=35014', 'expression': '((DK|FI|HU|LU|MT|SI)(-)?\\\\d{8})|((BE|EE|DE|EL|LT|PT)(-)?\\\\d{9})|((PL|SK)(-)?\\\\d{10})|((IT|LV)(-)?\\\\d{11})|((LT|SE)(-)?\\\\d{12})|(AT(-)?U\\\\d{8})|(CY(-)?\\\\d{8}[A-Z])|(CZ(-)?\\\\d{8,10})|(FR(-)?[\\\\dA-HJ-NP-Z]{2}\\\\d{9})|(IE(-)?\\\\d[A-Z\\\\d]\\\\d{5}[A-Z])|(NL(-)?\\\\d{9}B\\\\d{2})|(ES(-)?[A-Z\\\\d]\\\\d{7}[A-Z\\\\d])|(GB(-)?[0-9]{9}([0-9]{3})?|[A-Z]{2}[0-9]{3})', 'description': 'Match all EU Vat Reg Numbers including GB (for the moment)', 'matches': 'IE1234567R, GB998889999', 'non_matches': 'ABCD001'}\n"
     ]
    }
   ],
   "source": [
    "import requests\n",
    "from selenium.webdriver.common.by import By\n",
    "\n",
    "table_data = []\n",
    "\n",
    "\n",
    "for i in range(1, 43):\n",
    "    driver = webdriver.Chrome()\n",
    "    url = \"https://regexlib.com/Search.aspx?k=&c=-1&m=-1&ps=100&p=\"+str(i)\n",
    "\n",
    "    driver.get(url)\n",
    "\n",
    "    tables = driver.find_elements(By.CSS_SELECTOR, \"table.searchResultsTable\")\n",
    "    table_data = get_table_data( table_data, tables)\n",
    "\n",
    "    print(len(table_data))\n",
    "    print(table_data[-1])\n",
    "\n",
    "    driver.close()\n",
    "\n",
    "\n"
   ]
  },
  {
   "cell_type": "code",
   "execution_count": 11,
   "metadata": {},
   "outputs": [
    {
     "name": "stdout",
     "output_type": "stream",
     "text": [
      "4128\n"
     ]
    }
   ],
   "source": [
    "print(len(table_data))"
   ]
  },
  {
   "cell_type": "code",
   "execution_count": 12,
   "metadata": {},
   "outputs": [],
   "source": [
    "import json\n",
    "with open('./RegexEval_Init.json', 'w') as f:\n",
    "    json.dump(table_data, f)"
   ]
  }
 ],
 "metadata": {
  "kernelspec": {
   "display_name": "Python 3",
   "language": "python",
   "name": "python3"
  },
  "language_info": {
   "codemirror_mode": {
    "name": "ipython",
    "version": 3
   },
   "file_extension": ".py",
   "mimetype": "text/x-python",
   "name": "python",
   "nbconvert_exporter": "python",
   "pygments_lexer": "ipython3",
   "version": "3.9.4"
  },
  "orig_nbformat": 4
 },
 "nbformat": 4,
 "nbformat_minor": 2
}
